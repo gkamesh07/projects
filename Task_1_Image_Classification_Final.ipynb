{
  "nbformat": 4,
  "nbformat_minor": 0,
  "metadata": {
    "kernelspec": {
      "name": "python3",
      "display_name": "Python 3"
    },
    "language_info": {
      "codemirror_mode": {
        "name": "ipython",
        "version": 3
      },
      "file_extension": ".py",
      "mimetype": "text/x-python",
      "name": "python",
      "nbconvert_exporter": "python",
      "pygments_lexer": "ipython3",
      "version": "3.6.9"
    },
    "colab": {
      "name": "ruralhandamade.ipynb",
      "provenance": [],
      "collapsed_sections": [],
      "toc_visible": true,
      "machine_shape": "hm"
    },
    "accelerator": "GPU"
  },
  "cells": [
    {
      "cell_type": "code",
      "metadata": {
        "id": "PHWgi7RSetg6",
        "colab_type": "code",
        "colab": {}
      },
      "source": [
        "import pandas as pd\n",
        "import numpy as np\n",
        "from PIL import Image\n",
        "from matplotlib.pyplot import imshow\n",
        "from os import listdir\n",
        "import cv2 "
      ],
      "execution_count": 0,
      "outputs": []
    },
    {
      "cell_type": "code",
      "metadata": {
        "id": "Rqy56biPe4nG",
        "colab_type": "code",
        "outputId": "0de7339b-a986-4302-deab-5ea4e585f904",
        "colab": {
          "base_uri": "https://localhost:8080/",
          "height": 122
        }
      },
      "source": [
        "from google.colab import drive\n",
        "drive.mount('/content/drive')"
      ],
      "execution_count": 6,
      "outputs": [
        {
          "output_type": "stream",
          "text": [
            "Go to this URL in a browser: https://accounts.google.com/o/oauth2/auth?client_id=947318989803-6bn6qk8qdgf4n4g3pfee6491hc0brc4i.apps.googleusercontent.com&redirect_uri=urn%3aietf%3awg%3aoauth%3a2.0%3aoob&response_type=code&scope=email%20https%3a%2f%2fwww.googleapis.com%2fauth%2fdocs.test%20https%3a%2f%2fwww.googleapis.com%2fauth%2fdrive%20https%3a%2f%2fwww.googleapis.com%2fauth%2fdrive.photos.readonly%20https%3a%2f%2fwww.googleapis.com%2fauth%2fpeopleapi.readonly\n",
            "\n",
            "Enter your authorization code:\n",
            "··········\n",
            "Mounted at /content/drive\n"
          ],
          "name": "stdout"
        }
      ]
    },
    {
      "cell_type": "code",
      "metadata": {
        "id": "L8FCDI5pethD",
        "colab_type": "code",
        "colab": {}
      },
      "source": [
        "df = pd.read_csv('/content/drive/My Drive/question_1_dataset/Train.csv') # read the training data file from working directory\n",
        "imagePath = '/content/drive/My Drive/question_1_dataset/train/train/'"
      ],
      "execution_count": 0,
      "outputs": []
    },
    {
      "cell_type": "code",
      "metadata": {
        "id": "SzL8PNK6ethL",
        "colab_type": "code",
        "outputId": "b4516109-3dfa-4b78-ac70-8c1aa0be054a",
        "colab": {
          "base_uri": "https://localhost:8080/",
          "height": 419
        }
      },
      "source": [
        "df"
      ],
      "execution_count": 8,
      "outputs": [
        {
          "output_type": "execute_result",
          "data": {
            "text/html": [
              "<div>\n",
              "<style scoped>\n",
              "    .dataframe tbody tr th:only-of-type {\n",
              "        vertical-align: middle;\n",
              "    }\n",
              "\n",
              "    .dataframe tbody tr th {\n",
              "        vertical-align: top;\n",
              "    }\n",
              "\n",
              "    .dataframe thead th {\n",
              "        text-align: right;\n",
              "    }\n",
              "</style>\n",
              "<table border=\"1\" class=\"dataframe\">\n",
              "  <thead>\n",
              "    <tr style=\"text-align: right;\">\n",
              "      <th></th>\n",
              "      <th>name</th>\n",
              "      <th>category</th>\n",
              "    </tr>\n",
              "  </thead>\n",
              "  <tbody>\n",
              "    <tr>\n",
              "      <th>0</th>\n",
              "      <td>1.png</td>\n",
              "      <td>9</td>\n",
              "    </tr>\n",
              "    <tr>\n",
              "      <th>1</th>\n",
              "      <td>2.png</td>\n",
              "      <td>3</td>\n",
              "    </tr>\n",
              "    <tr>\n",
              "      <th>2</th>\n",
              "      <td>3.png</td>\n",
              "      <td>9</td>\n",
              "    </tr>\n",
              "    <tr>\n",
              "      <th>3</th>\n",
              "      <td>4.png</td>\n",
              "      <td>8</td>\n",
              "    </tr>\n",
              "    <tr>\n",
              "      <th>4</th>\n",
              "      <td>5.png</td>\n",
              "      <td>13</td>\n",
              "    </tr>\n",
              "    <tr>\n",
              "      <th>...</th>\n",
              "      <td>...</td>\n",
              "      <td>...</td>\n",
              "    </tr>\n",
              "    <tr>\n",
              "      <th>4460</th>\n",
              "      <td>4461.png</td>\n",
              "      <td>8</td>\n",
              "    </tr>\n",
              "    <tr>\n",
              "      <th>4461</th>\n",
              "      <td>4462.png</td>\n",
              "      <td>13</td>\n",
              "    </tr>\n",
              "    <tr>\n",
              "      <th>4462</th>\n",
              "      <td>4463.png</td>\n",
              "      <td>6</td>\n",
              "    </tr>\n",
              "    <tr>\n",
              "      <th>4463</th>\n",
              "      <td>4464.png</td>\n",
              "      <td>14</td>\n",
              "    </tr>\n",
              "    <tr>\n",
              "      <th>4464</th>\n",
              "      <td>4465.png</td>\n",
              "      <td>16</td>\n",
              "    </tr>\n",
              "  </tbody>\n",
              "</table>\n",
              "<p>4465 rows × 2 columns</p>\n",
              "</div>"
            ],
            "text/plain": [
              "          name  category\n",
              "0        1.png         9\n",
              "1        2.png         3\n",
              "2        3.png         9\n",
              "3        4.png         8\n",
              "4        5.png        13\n",
              "...        ...       ...\n",
              "4460  4461.png         8\n",
              "4461  4462.png        13\n",
              "4462  4463.png         6\n",
              "4463  4464.png        14\n",
              "4464  4465.png        16\n",
              "\n",
              "[4465 rows x 2 columns]"
            ]
          },
          "metadata": {
            "tags": []
          },
          "execution_count": 8
        }
      ]
    },
    {
      "cell_type": "code",
      "metadata": {
        "id": "SuZrsgWjethR",
        "colab_type": "code",
        "colab": {}
      },
      "source": [
        "images=[]"
      ],
      "execution_count": 0,
      "outputs": []
    },
    {
      "cell_type": "code",
      "metadata": {
        "id": "PJxH0nP_ethV",
        "colab_type": "code",
        "colab": {}
      },
      "source": [
        "for i in range(len(df)):\n",
        "    #print(df.loc[i]['name'])\n",
        "    images.append(cv2.imread(f'/content/drive/My Drive/question_1_dataset/train/train/{df.loc[i][\"name\"]}'))"
      ],
      "execution_count": 0,
      "outputs": []
    },
    {
      "cell_type": "code",
      "metadata": {
        "id": "YlFn3r9uethj",
        "colab_type": "code",
        "colab": {}
      },
      "source": [
        "from sklearn.model_selection import train_test_split\n",
        "X_train, X_test, y_train, y_test = train_test_split(images, df['category'], test_size=0.20, random_state=42)"
      ],
      "execution_count": 0,
      "outputs": []
    },
    {
      "cell_type": "code",
      "metadata": {
        "id": "iCrR50REetho",
        "colab_type": "code",
        "colab": {}
      },
      "source": [
        ""
      ],
      "execution_count": 0,
      "outputs": []
    },
    {
      "cell_type": "code",
      "metadata": {
        "id": "dnVucJWXLLCf",
        "colab_type": "code",
        "outputId": "e5f9dd4b-0997-45e6-b34a-ba25ab8f5cb9",
        "colab": {
          "base_uri": "https://localhost:8080/",
          "height": 34
        }
      },
      "source": [
        "x,y = np.asarray(X_train), np.asarray(y_train)\n",
        "x.shape"
      ],
      "execution_count": 52,
      "outputs": [
        {
          "output_type": "execute_result",
          "data": {
            "text/plain": [
              "(3572, 200, 200, 3)"
            ]
          },
          "metadata": {
            "tags": []
          },
          "execution_count": 52
        }
      ]
    },
    {
      "cell_type": "code",
      "metadata": {
        "id": "5leC0Bwreth5",
        "colab_type": "code",
        "outputId": "7bc68448-9e93-4953-de1d-d2c37cd4d15e",
        "colab": {
          "base_uri": "https://localhost:8080/",
          "height": 286
        }
      },
      "source": [
        "import matplotlib.pyplot as plt\n",
        "plt.imshow(x[0])"
      ],
      "execution_count": 14,
      "outputs": [
        {
          "output_type": "execute_result",
          "data": {
            "text/plain": [
              "<matplotlib.image.AxesImage at 0x7f82c13b49b0>"
            ]
          },
          "metadata": {
            "tags": []
          },
          "execution_count": 14
        },
        {
          "output_type": "display_data",
          "data": {
            "image/png": "[encoded data removed]",
            "text/plain": [
              "<Figure size 432x288 with 1 Axes>"
            ]
          },
          "metadata": {
            "tags": []
          }
        }
      ]
    },
    {
      "cell_type": "code",
      "metadata": {
        "id": "j4TNIqiSetiG",
        "colab_type": "code",
        "colab": {}
      },
      "source": [
        "from keras.utils import to_categorical"
      ],
      "execution_count": 0,
      "outputs": []
    },
    {
      "cell_type": "code",
      "metadata": {
        "colab_type": "code",
        "outputId": "b09aa605-896e-4ec5-9024-c623bc0b010a",
        "id": "it4qlZ9YHpz8",
        "colab": {
          "base_uri": "https://localhost:8080/",
          "height": 34
        }
      },
      "source": [
        "df['category'].unique()"
      ],
      "execution_count": 16,
      "outputs": [
        {
          "output_type": "execute_result",
          "data": {
            "text/plain": [
              "array([ 9,  3,  8, 13,  7,  2, 16,  6,  1, 14, 15, 12, 10, 11,  5,  4])"
            ]
          },
          "metadata": {
            "tags": []
          },
          "execution_count": 16
        }
      ]
    },
    {
      "cell_type": "code",
      "metadata": {
        "id": "NIMBQRwZetix",
        "colab_type": "code",
        "colab": {}
      },
      "source": [
        "Y_train = pd.get_dummies(y_train)\n",
        "Y_test = pd.get_dummies(y_test)"
      ],
      "execution_count": 0,
      "outputs": []
    },
    {
      "cell_type": "code",
      "metadata": {
        "id": "ONlwqbzrOy53",
        "colab_type": "code",
        "colab": {}
      },
      "source": [
        "batch_size = 3572\n",
        "epochs = 10\n",
        "IMG_HEIGHT = 200\n",
        "IMG_WIDTH = 200"
      ],
      "execution_count": 0,
      "outputs": []
    },
    {
      "cell_type": "code",
      "metadata": {
        "id": "hpQ0IICVOzWK",
        "colab_type": "code",
        "colab": {}
      },
      "source": [
        "from keras.layers import Dense,Conv2D\n",
        "from keras.preprocessing.image import ImageDataGenerator,img_to_array, load_img\n",
        "import math"
      ],
      "execution_count": 0,
      "outputs": []
    },
    {
      "cell_type": "code",
      "metadata": {
        "id": "UlYCF-x9edH_",
        "colab_type": "code",
        "colab": {}
      },
      "source": [
        ""
      ],
      "execution_count": 0,
      "outputs": []
    },
    {
      "cell_type": "code",
      "metadata": {
        "id": "T8UqUmcXedlA",
        "colab_type": "code",
        "colab": {}
      },
      "source": [
        ""
      ],
      "execution_count": 0,
      "outputs": []
    },
    {
      "cell_type": "code",
      "metadata": {
        "id": "nrtsZzwSOzzQ",
        "colab_type": "code",
        "colab": {}
      },
      "source": [
        ""
      ],
      "execution_count": 0,
      "outputs": []
    },
    {
      "cell_type": "code",
      "metadata": {
        "id": "IbLZMjZtvgxl",
        "colab_type": "code",
        "colab": {}
      },
      "source": [
        "from keras import backend as K\n",
        "from keras.utils.np_utils import to_categorical\n",
        "from keras import layers\n",
        "from keras.preprocessing.image import save_img\n",
        "from keras.utils.vis_utils import model_to_dot\n",
        "from keras.applications.vgg16 import VGG16,preprocess_input\n",
        "from keras.applications.xception import Xception\n",
        "from keras.applications.nasnet import NASNetMobile\n",
        "from keras.models import Sequential,Input,Model\n",
        "import keras.models\n",
        "from keras.models import Sequential\n",
        "from keras.layers import Dense,Flatten,Dropout,Concatenate,GlobalAveragePooling2D,Lambda,ZeroPadding2D\n",
        "from keras.layers import SeparableConv2D,BatchNormalization,MaxPooling2D,Conv2D\n",
        "from keras.preprocessing import image\n",
        "from keras.preprocessing.image import ImageDataGenerator\n",
        "from keras.optimizers import Adam,SGD\n",
        "from keras.utils.vis_utils import plot_model\n",
        "from keras.callbacks import ModelCheckpoint,EarlyStopping,TensorBoard,CSVLogger,ReduceLROnPlateau,LearningRateScheduler\n",
        "import tensorflow as tf\n",
        "from tqdm import tqdm\n",
        "from tensorflow.keras import datasets, layers, models"
      ],
      "execution_count": 0,
      "outputs": []
    },
    {
      "cell_type": "code",
      "metadata": {
        "id": "weBZ8V__etjG",
        "colab_type": "code",
        "colab": {
          "base_uri": "https://localhost:8080/",
          "height": 34
        },
        "outputId": "b5d342b1-5531-4873-f744-5e7c2230ab02"
      },
      "source": [
        "train_image = []\n",
        "for i in tqdm(range(df.shape[0])):\n",
        "    img = image.load_img('/content/drive/My Drive/question_1_dataset/train/train/'+ df['name'][i], target_size=(200,200,3))\n",
        "    img = image.img_to_array(img)\n",
        "    img = img/255\n",
        "    train_image.append(img)\n",
        "X = np.array(train_image)"
      ],
      "execution_count": 29,
      "outputs": [
        {
          "output_type": "stream",
          "text": [
            "100%|██████████| 4465/4465 [00:09<00:00, 456.88it/s]\n"
          ],
          "name": "stderr"
        }
      ]
    },
    {
      "cell_type": "code",
      "metadata": {
        "id": "FKavTyHOcNtY",
        "colab_type": "code",
        "colab": {}
      },
      "source": [
        "y=df['category'].values\n",
        "y = to_categorical(y)"
      ],
      "execution_count": 0,
      "outputs": []
    },
    {
      "cell_type": "code",
      "metadata": {
        "id": "LSwBUVTZgpZa",
        "colab_type": "code",
        "colab": {}
      },
      "source": [
        "from sklearn.model_selection import train_test_split\n",
        "X_train, X_test, y_train, y_test = train_test_split(X, y, random_state=42, test_size=0.2)"
      ],
      "execution_count": 0,
      "outputs": []
    },
    {
      "cell_type": "code",
      "metadata": {
        "id": "7x-JxE0Bs66T",
        "colab_type": "code",
        "colab": {
          "base_uri": "https://localhost:8080/",
          "height": 272
        },
        "outputId": "8c267ed9-308b-444d-f447-d83f574054c3"
      },
      "source": [
        "print(len(y_train))\n",
        "y_train=pd.get_dummies(y_train)\n",
        "print(y_train)"
      ],
      "execution_count": 52,
      "outputs": [
        {
          "output_type": "stream",
          "text": [
            "3572\n",
            "      1   2   3   4   5   6   7   8   9   10  11  12  13  14  15  16\n",
            "2215   0   1   0   0   0   0   0   0   0   0   0   0   0   0   0   0\n",
            "3515   0   0   1   0   0   0   0   0   0   0   0   0   0   0   0   0\n",
            "1406   1   0   0   0   0   0   0   0   0   0   0   0   0   0   0   0\n",
            "3155   0   0   0   0   0   0   0   0   0   0   0   0   0   0   0   1\n",
            "3101   0   0   0   0   0   0   1   0   0   0   0   0   0   0   0   0\n",
            "...   ..  ..  ..  ..  ..  ..  ..  ..  ..  ..  ..  ..  ..  ..  ..  ..\n",
            "4426   0   0   0   0   0   0   0   0   0   0   0   0   0   1   0   0\n",
            "466    0   1   0   0   0   0   0   0   0   0   0   0   0   0   0   0\n",
            "3092   0   0   0   0   1   0   0   0   0   0   0   0   0   0   0   0\n",
            "3772   0   0   0   0   0   0   0   0   0   0   0   0   0   0   0   1\n",
            "860    0   0   0   0   1   0   0   0   0   0   0   0   0   0   0   0\n",
            "\n",
            "[3572 rows x 16 columns]\n"
          ],
          "name": "stdout"
        }
      ]
    },
    {
      "cell_type": "code",
      "metadata": {
        "id": "Yxba-9W0gpsD",
        "colab_type": "code",
        "colab": {}
      },
      "source": [
        "model = Sequential()\n",
        "model.add(Conv2D(32, kernel_size=(3, 3),activation='relu',input_shape=(200,200,3)))\n",
        "model.add(Conv2D(64, (3, 3), activation='relu'))\n",
        "model.add(MaxPooling2D(pool_size=(2, 2)))\n",
        "model.add(Dropout(0.25))\n",
        "model.add(Flatten())\n",
        "model.add(Dense(128, activation='relu'))\n",
        "model.add(Dropout(0.5))\n",
        "model.add(Dense(16, activation='softmax'))"
      ],
      "execution_count": 0,
      "outputs": []
    },
    {
      "cell_type": "code",
      "metadata": {
        "id": "2OrfxKZwetIY",
        "colab_type": "code",
        "colab": {}
      },
      "source": [
        "model.compile(loss='categorical_crossentropy',optimizer='Adam',metrics=['accuracy'])"
      ],
      "execution_count": 0,
      "outputs": []
    },
    {
      "cell_type": "code",
      "metadata": {
        "id": "WlDIllzgcTSX",
        "colab_type": "code",
        "colab": {
          "base_uri": "https://localhost:8080/",
          "height": 136
        },
        "outputId": "710a0e4e-6610-4df8-e400-a1cf12a52cdd"
      },
      "source": [
        "model.fit(X_train, y_train, epochs=100, validation_data=(X_test, y_test))"
      ],
      "execution_count": 0,
      "outputs": [
        {
          "output_type": "stream",
          "text": [
            "Train on 3572 samples, validate on 893 samples\n",
            "Epoch 1/100\n",
            "3572/3572 [==============================] - 10s 3ms/step - loss: 0.0198 - acc: 0.9930 - val_loss: 0.9876 - val_acc: 0.8231\n",
            "Epoch 2/100\n",
            "3572/3572 [==============================] - 9s 3ms/step - loss: 0.0180 - acc: 0.9944 - val_loss: 0.9123 - val_acc: 0.8197\n",
            "Epoch 3/100\n",
            "2624/3572 [=====================>........] - ETA: 2s - loss: 0.0152 - acc: 0.9939"
          ],
          "name": "stdout"
        }
      ]
    },
    {
      "cell_type": "code",
      "metadata": {
        "id": "lcKYTwn6uEN1",
        "colab_type": "code",
        "colab": {}
      },
      "source": [
        "test_df = pd.read_csv('/content/drive/My Drive/question_1_dataset/Test.csv')"
      ],
      "execution_count": 0,
      "outputs": []
    },
    {
      "cell_type": "code",
      "metadata": {
        "id": "4aJNFSqCcTrY",
        "colab_type": "code",
        "colab": {
          "base_uri": "https://localhost:8080/",
          "height": 34
        },
        "outputId": "12e33e0d-b960-4cf3-ff67-9d81537f0413"
      },
      "source": [
        "test_image = []\n",
        "for i in tqdm(range(test_df.shape[0])):\n",
        "    img = image.load_img('/content/drive/My Drive/question_1_dataset/test/test/'+ test_df['name'][i], target_size=(200,200,3))\n",
        "    img = image.img_to_array(img)\n",
        "    img = img/255\n",
        "    test_image.append(img)\n",
        "test = np.array(test_image)"
      ],
      "execution_count": 57,
      "outputs": [
        {
          "output_type": "stream",
          "text": [
            "100%|██████████| 1914/1914 [00:03<00:00, 530.78it/s]\n"
          ],
          "name": "stderr"
        }
      ]
    },
    {
      "cell_type": "code",
      "metadata": {
        "id": "zInWiHdUUMcf",
        "colab_type": "code",
        "colab": {}
      },
      "source": [
        "prediction = model.predict_classes(test)"
      ],
      "execution_count": 0,
      "outputs": []
    },
    {
      "cell_type": "code",
      "metadata": {
        "id": "UkjDjDdQUUm8",
        "colab_type": "code",
        "colab": {
          "base_uri": "https://localhost:8080/",
          "height": 34
        },
        "outputId": "51ed967f-bce5-4d9b-8b21-54e667cb8337"
      },
      "source": [
        "print(len(prediction))"
      ],
      "execution_count": 59,
      "outputs": [
        {
          "output_type": "stream",
          "text": [
            "1914\n"
          ],
          "name": "stdout"
        }
      ]
    },
    {
      "cell_type": "code",
      "metadata": {
        "id": "EQ0TiKEuUVGQ",
        "colab_type": "code",
        "colab": {}
      },
      "source": [
        "test_df['category']=prediction"
      ],
      "execution_count": 0,
      "outputs": []
    },
    {
      "cell_type": "code",
      "metadata": {
        "id": "9rR-2wqFDUBY",
        "colab_type": "code",
        "colab": {}
      },
      "source": [
        "test_df['category'] = test_df['category']+1\n",
        "test_df.to_csv('Task1_Predicted_Result.csv')"
      ],
      "execution_count": 0,
      "outputs": []
    },
    {
      "cell_type": "code",
      "metadata": {
        "id": "GwxaLf5CUVlw",
        "colab_type": "code",
        "colab": {
          "base_uri": "https://localhost:8080/",
          "height": 493
        },
        "outputId": "93dca5db-470b-47e9-fa9a-15655e14f41a"
      },
      "source": [
        "model.compile(optimizer='adam',\n",
        "              loss=tf.keras.losses.SparseCategoricalCrossentropy(from_logits=True),\n",
        "              metrics=['accuracy'])\n",
        "\n",
        "model.fit([X_train],Y_train, epochs=10)"
      ],
      "execution_count": 102,
      "outputs": [
        {
          "output_type": "stream",
          "text": [
            "Train on 3572 samples\n",
            "Epoch 1/10\n"
          ],
          "name": "stdout"
        },
        {
          "output_type": "error",
          "ename": "InvalidArgumentError",
          "evalue": "ignored",
          "traceback": [
            "\u001b[0;31m---------------------------------------------------------------------------\u001b[0m",
            "\u001b[0;31mInvalidArgumentError\u001b[0m                      Traceback (most recent call last)",
            "\u001b[0;32m<ipython-input-102-d35c9bcce776>\u001b[0m in \u001b[0;36m<module>\u001b[0;34m()\u001b[0m\n\u001b[1;32m      3\u001b[0m               metrics=['accuracy'])\n\u001b[1;32m      4\u001b[0m \u001b[0;34m\u001b[0m\u001b[0m\n\u001b[0;32m----> 5\u001b[0;31m \u001b[0mmodel\u001b[0m\u001b[0;34m.\u001b[0m\u001b[0mfit\u001b[0m\u001b[0;34m(\u001b[0m\u001b[0;34m[\u001b[0m\u001b[0mX_train\u001b[0m\u001b[0;34m]\u001b[0m\u001b[0;34m,\u001b[0m\u001b[0mY_train\u001b[0m\u001b[0;34m,\u001b[0m \u001b[0mepochs\u001b[0m\u001b[0;34m=\u001b[0m\u001b[0;36m10\u001b[0m\u001b[0;34m)\u001b[0m\u001b[0;34m\u001b[0m\u001b[0;34m\u001b[0m\u001b[0m\n\u001b[0m",
            "\u001b[0;32m/usr/local/lib/python3.6/dist-packages/tensorflow_core/python/keras/engine/training.py\u001b[0m in \u001b[0;36mfit\u001b[0;34m(self, x, y, batch_size, epochs, verbose, callbacks, validation_split, validation_data, shuffle, class_weight, sample_weight, initial_epoch, steps_per_epoch, validation_steps, validation_freq, max_queue_size, workers, use_multiprocessing, **kwargs)\u001b[0m\n\u001b[1;32m    725\u001b[0m         \u001b[0mmax_queue_size\u001b[0m\u001b[0;34m=\u001b[0m\u001b[0mmax_queue_size\u001b[0m\u001b[0;34m,\u001b[0m\u001b[0;34m\u001b[0m\u001b[0;34m\u001b[0m\u001b[0m\n\u001b[1;32m    726\u001b[0m         \u001b[0mworkers\u001b[0m\u001b[0;34m=\u001b[0m\u001b[0mworkers\u001b[0m\u001b[0;34m,\u001b[0m\u001b[0;34m\u001b[0m\u001b[0;34m\u001b[0m\u001b[0m\n\u001b[0;32m--> 727\u001b[0;31m         use_multiprocessing=use_multiprocessing)\n\u001b[0m\u001b[1;32m    728\u001b[0m \u001b[0;34m\u001b[0m\u001b[0m\n\u001b[1;32m    729\u001b[0m   def evaluate(self,\n",
            "\u001b[0;32m/usr/local/lib/python3.6/dist-packages/tensorflow_core/python/keras/engine/training_arrays.py\u001b[0m in \u001b[0;36mfit\u001b[0;34m(self, model, x, y, batch_size, epochs, verbose, callbacks, validation_split, validation_data, shuffle, class_weight, sample_weight, initial_epoch, steps_per_epoch, validation_steps, validation_freq, **kwargs)\u001b[0m\n\u001b[1;32m    673\u001b[0m         \u001b[0mvalidation_steps\u001b[0m\u001b[0;34m=\u001b[0m\u001b[0mvalidation_steps\u001b[0m\u001b[0;34m,\u001b[0m\u001b[0;34m\u001b[0m\u001b[0;34m\u001b[0m\u001b[0m\n\u001b[1;32m    674\u001b[0m         \u001b[0mvalidation_freq\u001b[0m\u001b[0;34m=\u001b[0m\u001b[0mvalidation_freq\u001b[0m\u001b[0;34m,\u001b[0m\u001b[0;34m\u001b[0m\u001b[0;34m\u001b[0m\u001b[0m\n\u001b[0;32m--> 675\u001b[0;31m         steps_name='steps_per_epoch')\n\u001b[0m\u001b[1;32m    676\u001b[0m \u001b[0;34m\u001b[0m\u001b[0m\n\u001b[1;32m    677\u001b[0m   def evaluate(self,\n",
            "\u001b[0;32m/usr/local/lib/python3.6/dist-packages/tensorflow_core/python/keras/engine/training_arrays.py\u001b[0m in \u001b[0;36mmodel_iteration\u001b[0;34m(model, inputs, targets, sample_weights, batch_size, epochs, verbose, callbacks, val_inputs, val_targets, val_sample_weights, shuffle, initial_epoch, steps_per_epoch, validation_steps, validation_freq, mode, validation_in_fit, prepared_feed_values_from_dataset, steps_name, **kwargs)\u001b[0m\n\u001b[1;32m    392\u001b[0m \u001b[0;34m\u001b[0m\u001b[0m\n\u001b[1;32m    393\u001b[0m         \u001b[0;31m# Get outputs.\u001b[0m\u001b[0;34m\u001b[0m\u001b[0;34m\u001b[0m\u001b[0;34m\u001b[0m\u001b[0m\n\u001b[0;32m--> 394\u001b[0;31m         \u001b[0mbatch_outs\u001b[0m \u001b[0;34m=\u001b[0m \u001b[0mf\u001b[0m\u001b[0;34m(\u001b[0m\u001b[0mins_batch\u001b[0m\u001b[0;34m)\u001b[0m\u001b[0;34m\u001b[0m\u001b[0;34m\u001b[0m\u001b[0m\n\u001b[0m\u001b[1;32m    395\u001b[0m         \u001b[0;32mif\u001b[0m \u001b[0;32mnot\u001b[0m \u001b[0misinstance\u001b[0m\u001b[0;34m(\u001b[0m\u001b[0mbatch_outs\u001b[0m\u001b[0;34m,\u001b[0m \u001b[0mlist\u001b[0m\u001b[0;34m)\u001b[0m\u001b[0;34m:\u001b[0m\u001b[0;34m\u001b[0m\u001b[0;34m\u001b[0m\u001b[0m\n\u001b[1;32m    396\u001b[0m           \u001b[0mbatch_outs\u001b[0m \u001b[0;34m=\u001b[0m \u001b[0;34m[\u001b[0m\u001b[0mbatch_outs\u001b[0m\u001b[0;34m]\u001b[0m\u001b[0;34m\u001b[0m\u001b[0;34m\u001b[0m\u001b[0m\n",
            "\u001b[0;32m/usr/local/lib/python3.6/dist-packages/tensorflow_core/python/keras/backend.py\u001b[0m in \u001b[0;36m__call__\u001b[0;34m(self, inputs)\u001b[0m\n\u001b[1;32m   3474\u001b[0m \u001b[0;34m\u001b[0m\u001b[0m\n\u001b[1;32m   3475\u001b[0m     fetched = self._callable_fn(*array_vals,\n\u001b[0;32m-> 3476\u001b[0;31m                                 run_metadata=self.run_metadata)\n\u001b[0m\u001b[1;32m   3477\u001b[0m     \u001b[0mself\u001b[0m\u001b[0;34m.\u001b[0m\u001b[0m_call_fetch_callbacks\u001b[0m\u001b[0;34m(\u001b[0m\u001b[0mfetched\u001b[0m\u001b[0;34m[\u001b[0m\u001b[0;34m-\u001b[0m\u001b[0mlen\u001b[0m\u001b[0;34m(\u001b[0m\u001b[0mself\u001b[0m\u001b[0;34m.\u001b[0m\u001b[0m_fetches\u001b[0m\u001b[0;34m)\u001b[0m\u001b[0;34m:\u001b[0m\u001b[0;34m]\u001b[0m\u001b[0;34m)\u001b[0m\u001b[0;34m\u001b[0m\u001b[0;34m\u001b[0m\u001b[0m\n\u001b[1;32m   3478\u001b[0m     output_structure = nest.pack_sequence_as(\n",
            "\u001b[0;32m/usr/local/lib/python3.6/dist-packages/tensorflow_core/python/client/session.py\u001b[0m in \u001b[0;36m__call__\u001b[0;34m(self, *args, **kwargs)\u001b[0m\n\u001b[1;32m   1470\u001b[0m         ret = tf_session.TF_SessionRunCallable(self._session._session,\n\u001b[1;32m   1471\u001b[0m                                                \u001b[0mself\u001b[0m\u001b[0;34m.\u001b[0m\u001b[0m_handle\u001b[0m\u001b[0;34m,\u001b[0m \u001b[0margs\u001b[0m\u001b[0;34m,\u001b[0m\u001b[0;34m\u001b[0m\u001b[0;34m\u001b[0m\u001b[0m\n\u001b[0;32m-> 1472\u001b[0;31m                                                run_metadata_ptr)\n\u001b[0m\u001b[1;32m   1473\u001b[0m         \u001b[0;32mif\u001b[0m \u001b[0mrun_metadata\u001b[0m\u001b[0;34m:\u001b[0m\u001b[0;34m\u001b[0m\u001b[0;34m\u001b[0m\u001b[0m\n\u001b[1;32m   1474\u001b[0m           \u001b[0mproto_data\u001b[0m \u001b[0;34m=\u001b[0m \u001b[0mtf_session\u001b[0m\u001b[0;34m.\u001b[0m\u001b[0mTF_GetBuffer\u001b[0m\u001b[0;34m(\u001b[0m\u001b[0mrun_metadata_ptr\u001b[0m\u001b[0;34m)\u001b[0m\u001b[0;34m\u001b[0m\u001b[0;34m\u001b[0m\u001b[0m\n",
            "\u001b[0;31mInvalidArgumentError\u001b[0m: 2 root error(s) found.\n  (0) Invalid argument: Can not squeeze dim[1], expected a dimension of 1, got 16\n\t [[{{node metrics_22/acc/Squeeze}}]]\n\t [[loss_12/mul/_609]]\n  (1) Invalid argument: Can not squeeze dim[1], expected a dimension of 1, got 16\n\t [[{{node metrics_22/acc/Squeeze}}]]\n0 successful operations.\n0 derived errors ignored."
          ]
        }
      ]
    },
    {
      "cell_type": "code",
      "metadata": {
        "id": "UVwvRfv9etjK",
        "colab_type": "code",
        "colab": {}
      },
      "source": [
        "model = FCN()"
      ],
      "execution_count": 0,
      "outputs": []
    },
    {
      "cell_type": "code",
      "metadata": {
        "id": "MqCaE34CfQvz",
        "colab_type": "code",
        "colab": {}
      },
      "source": [
        "opt = SGD(lr=1e-4,momentum=0.99)\n",
        "opt1 = Adam(lr=2e-4)\n",
        "\n",
        "model.compile(\n",
        "    loss='binary_crossentropy',\n",
        "    optimizer=opt,\n",
        "    metrics=['accuracy']\n",
        ")"
      ],
      "execution_count": 0,
      "outputs": []
    },
    {
      "cell_type": "code",
      "metadata": {
        "id": "i_8wWY_-fdM6",
        "colab_type": "code",
        "outputId": "14553d61-7967-45a0-9f5a-c34e2f0a1649",
        "colab": {
          "base_uri": "https://localhost:8080/",
          "height": 374
        }
      },
      "source": [
        "model.fit([X_train],Y_train, epochs=10)"
      ],
      "execution_count": 57,
      "outputs": [
        {
          "output_type": "stream",
          "text": [
            "Epoch 1/10\n",
            "3572/3572 [==============================] - 30s 8ms/step - loss: 0.0712 - acc: 0.9727\n",
            "Epoch 2/10\n",
            "3572/3572 [==============================] - 30s 8ms/step - loss: 0.0621 - acc: 0.9756\n",
            "Epoch 3/10\n",
            "3572/3572 [==============================] - 30s 8ms/step - loss: 0.0551 - acc: 0.9791\n",
            "Epoch 4/10\n",
            "3572/3572 [==============================] - 30s 8ms/step - loss: 0.0506 - acc: 0.9802\n",
            "Epoch 5/10\n",
            "3572/3572 [==============================] - 30s 8ms/step - loss: 0.0445 - acc: 0.9828\n",
            "Epoch 6/10\n",
            "3572/3572 [==============================] - 30s 8ms/step - loss: 0.0401 - acc: 0.9841\n",
            "Epoch 7/10\n",
            "3572/3572 [==============================] - 30s 8ms/step - loss: 0.0395 - acc: 0.9845\n",
            "Epoch 8/10\n",
            "3572/3572 [==============================] - 30s 8ms/step - loss: 0.0362 - acc: 0.9860\n",
            "Epoch 9/10\n",
            "3572/3572 [==============================] - 30s 8ms/step - loss: 0.0316 - acc: 0.9877\n",
            "Epoch 10/10\n",
            "3572/3572 [==============================] - 30s 8ms/step - loss: 0.0307 - acc: 0.9881\n"
          ],
          "name": "stdout"
        },
        {
          "output_type": "execute_result",
          "data": {
            "text/plain": [
              "<keras.callbacks.History at 0x7f1168296208>"
            ]
          },
          "metadata": {
            "tags": []
          },
          "execution_count": 57
        }
      ]
    },
    {
      "cell_type": "code",
      "metadata": {
        "id": "pqsJBTfXPR49",
        "colab_type": "code",
        "colab": {}
      },
      "source": [
        "prediction_X = model.predict([X_test])"
      ],
      "execution_count": 0,
      "outputs": []
    },
    {
      "cell_type": "code",
      "metadata": {
        "id": "BAZhzpRRPVmq",
        "colab_type": "code",
        "colab": {}
      },
      "source": [
        "results_X = []\n",
        "for i in range(len(prediction_X)):\n",
        "  results_X.append(np.argmax(prediction_X[i]))\n"
      ],
      "execution_count": 0,
      "outputs": []
    },
    {
      "cell_type": "code",
      "metadata": {
        "id": "pk_hYhOXUTP7",
        "colab_type": "code",
        "colab": {
          "base_uri": "https://localhost:8080/",
          "height": 88
        },
        "outputId": "dde2a7bb-0bd2-4962-c883-05030c5b4ffb"
      },
      "source": [
        "print(results_X),print(list(y_test))"
      ],
      "execution_count": 60,
      "outputs": [
        {
          "output_type": "stream",
          "text": [
            "[1, 4, 7, 15, 3, 6, 2, 6, 9, 14, 15, 2, 0, 3, 11, 12, 2, 4, 7, 1, 10, 9, 9, 7, 11, 3, 1, 11, 14, 2, 5, 1, 9, 14, 10, 0, 0, 12, 14, 4, 4, 10, 15, 9, 13, 2, 10, 12, 9, 1, 6, 11, 12, 11, 6, 4, 0, 2, 6, 14, 2, 7, 15, 13, 0, 8, 6, 4, 8, 0, 2, 11, 14, 9, 7, 15, 11, 8, 13, 7, 0, 8, 4, 2, 3, 13, 11, 6, 3, 12, 9, 6, 13, 11, 12, 4, 11, 5, 11, 14, 13, 1, 6, 3, 5, 4, 11, 15, 5, 12, 12, 3, 13, 11, 13, 10, 5, 6, 0, 12, 14, 13, 6, 4, 10, 6, 3, 0, 1, 11, 13, 9, 8, 9, 2, 9, 4, 4, 8, 2, 10, 4, 15, 6, 3, 0, 4, 11, 7, 15, 12, 12, 9, 5, 4, 10, 2, 15, 7, 2, 9, 15, 9, 2, 14, 10, 4, 7, 11, 11, 9, 4, 13, 11, 10, 13, 0, 11, 6, 2, 12, 12, 10, 0, 15, 11, 0, 3, 1, 7, 14, 13, 14, 14, 15, 2, 14, 4, 0, 0, 6, 2, 1, 7, 10, 12, 2, 13, 5, 10, 14, 7, 5, 7, 3, 13, 6, 4, 9, 10, 0, 11, 9, 6, 3, 2, 14, 5, 2, 4, 4, 2, 0, 8, 8, 12, 14, 15, 10, 6, 10, 14, 2, 3, 0, 9, 7, 6, 9, 10, 10, 1, 15, 10, 2, 13, 11, 0, 6, 3, 7, 15, 4, 7, 15, 4, 15, 10, 0, 4, 9, 6, 0, 12, 12, 6, 13, 2, 2, 1, 1, 1, 9, 5, 15, 9, 0, 5, 6, 8, 14, 15, 13, 0, 9, 15, 14, 0, 10, 9, 14, 3, 6, 11, 13, 6, 3, 12, 7, 10, 11, 2, 13, 5, 10, 6, 6, 11, 3, 2, 1, 4, 14, 13, 14, 7, 14, 13, 11, 7, 5, 0, 11, 1, 7, 3, 6, 14, 9, 3, 14, 12, 0, 3, 15, 7, 6, 4, 3, 12, 4, 10, 2, 4, 9, 13, 5, 4, 6, 9, 5, 4, 11, 10, 2, 9, 0, 12, 6, 9, 0, 8, 13, 14, 11, 1, 4, 9, 3, 2, 1, 5, 14, 11, 13, 7, 1, 15, 15, 11, 1, 9, 9, 13, 5, 11, 13, 14, 7, 11, 0, 12, 13, 10, 9, 2, 4, 12, 6, 3, 0, 7, 5, 5, 6, 14, 0, 2, 13, 8, 8, 3, 12, 4, 0, 7, 2, 12, 11, 7, 8, 15, 2, 2, 7, 0, 10, 15, 14, 6, 7, 2, 2, 10, 9, 9, 2, 2, 6, 10, 11, 9, 9, 5, 14, 3, 4, 6, 3, 10, 12, 7, 15, 15, 2, 2, 8, 3, 14, 5, 9, 12, 12, 1, 9, 10, 12, 7, 10, 11, 7, 15, 14, 6, 6, 6, 9, 10, 12, 1, 14, 5, 8, 3, 10, 14, 12, 12, 3, 11, 9, 2, 1, 4, 13, 4, 11, 1, 13, 13, 11, 1, 0, 3, 2, 10, 9, 12, 10, 11, 13, 11, 6, 3, 15, 5, 4, 15, 15, 1, 8, 9, 6, 11, 10, 1, 10, 9, 3, 14, 1, 10, 0, 7, 7, 7, 15, 2, 8, 7, 7, 3, 2, 9, 12, 14, 11, 13, 9, 7, 15, 6, 4, 3, 3, 6, 14, 2, 11, 1, 10, 10, 4, 2, 12, 8, 2, 13, 4, 4, 11, 3, 8, 9, 0, 9, 12, 2, 4, 8, 1, 13, 12, 13, 13, 13, 4, 3, 9, 0, 12, 11, 10, 0, 12, 9, 11, 9, 10, 12, 11, 3, 13, 14, 6, 1, 3, 8, 9, 11, 13, 5, 4, 6, 10, 6, 6, 1, 2, 15, 2, 13, 15, 14, 1, 3, 1, 7, 3, 12, 7, 4, 0, 0, 13, 15, 14, 1, 11, 2, 2, 12, 10, 14, 11, 3, 8, 6, 2, 9, 14, 8, 11, 14, 4, 2, 3, 11, 8, 11, 12, 5, 0, 14, 12, 9, 0, 5, 9, 1, 12, 9, 15, 1, 11, 7, 11, 11, 13, 11, 3, 15, 9, 13, 1, 2, 14, 3, 5, 11, 9, 1, 3, 15, 2, 1, 9, 3, 5, 0, 9, 2, 4, 0, 0, 9, 14, 5, 9, 11, 3, 13, 4, 1, 2, 4, 11, 12, 2, 11, 6, 15, 11, 15, 5, 5, 11, 10, 0, 14, 6, 15, 11, 12, 9, 1, 1, 3, 0, 11, 15, 10, 7, 0, 10, 5, 1, 11, 7, 4, 12, 4, 8, 14, 13, 7, 0, 3, 9, 13, 2, 15, 4, 10, 15, 6, 6, 4, 11, 0, 0, 11, 3, 11, 13, 3, 13, 14, 12, 6, 14, 1, 5, 11, 14, 8, 2, 3, 1, 6, 13, 9, 3, 11, 7, 10, 5, 13, 6, 11, 10, 8, 13, 14, 11, 11, 14, 4, 4, 6, 15, 1, 10, 9, 3, 6, 3, 10, 14, 6, 15, 1, 14, 4, 9, 2, 6, 10, 4, 10, 8, 14, 9, 15, 6, 1, 7, 7, 4, 15, 12, 6, 5, 4, 6, 3, 4, 0, 4, 3, 10, 5, 11, 9, 14, 11, 0, 7, 8, 0, 3, 11, 8, 2, 2, 5, 10, 9, 5, 3, 1, 10, 11, 11, 7, 3, 1, 6, 1, 2, 14, 2, 2]\n",
            "[2, 5, 8, 16, 4, 7, 1, 7, 10, 15, 16, 3, 1, 4, 6, 13, 3, 5, 8, 2, 11, 10, 10, 5, 12, 4, 2, 6, 15, 3, 6, 2, 10, 15, 11, 1, 1, 13, 15, 9, 5, 11, 16, 10, 14, 3, 11, 13, 10, 2, 7, 12, 13, 6, 7, 5, 1, 3, 7, 15, 3, 8, 16, 14, 1, 9, 7, 5, 9, 1, 3, 12, 15, 10, 8, 16, 12, 9, 14, 8, 1, 9, 5, 3, 4, 14, 12, 7, 4, 13, 10, 7, 14, 5, 13, 5, 12, 12, 12, 12, 14, 2, 7, 8, 6, 5, 12, 16, 12, 13, 13, 4, 14, 9, 14, 11, 6, 7, 1, 13, 13, 14, 7, 5, 11, 7, 4, 1, 2, 6, 14, 10, 9, 10, 3, 10, 5, 9, 6, 3, 11, 5, 16, 7, 4, 1, 5, 6, 8, 16, 13, 13, 7, 5, 5, 11, 3, 16, 8, 3, 10, 16, 10, 3, 13, 11, 5, 8, 12, 6, 10, 5, 14, 6, 11, 14, 1, 12, 7, 5, 13, 13, 11, 1, 16, 12, 1, 4, 2, 8, 15, 14, 15, 15, 16, 3, 14, 5, 1, 1, 7, 3, 2, 8, 11, 13, 3, 9, 6, 11, 14, 8, 9, 8, 4, 14, 7, 5, 10, 11, 1, 12, 10, 7, 4, 3, 15, 6, 3, 5, 5, 3, 1, 9, 9, 13, 14, 10, 11, 7, 11, 15, 1, 4, 1, 10, 8, 7, 15, 11, 11, 2, 16, 11, 3, 14, 12, 1, 7, 4, 8, 16, 5, 8, 16, 5, 16, 11, 1, 5, 10, 7, 1, 13, 13, 7, 14, 3, 3, 2, 2, 2, 10, 6, 16, 10, 1, 6, 7, 6, 14, 16, 14, 1, 10, 16, 15, 1, 11, 10, 13, 4, 7, 12, 14, 7, 4, 13, 8, 11, 12, 3, 14, 12, 11, 7, 7, 6, 4, 3, 2, 5, 15, 14, 14, 8, 15, 14, 9, 8, 6, 1, 6, 2, 8, 4, 7, 15, 15, 4, 15, 13, 1, 8, 16, 8, 7, 5, 4, 13, 5, 10, 3, 5, 10, 14, 12, 5, 7, 12, 9, 5, 12, 11, 5, 10, 1, 13, 7, 10, 1, 9, 14, 15, 12, 2, 5, 10, 4, 3, 2, 6, 15, 12, 14, 8, 2, 16, 16, 6, 2, 10, 10, 14, 12, 6, 15, 15, 8, 12, 1, 13, 14, 11, 10, 3, 5, 13, 7, 4, 1, 8, 6, 6, 7, 15, 1, 1, 14, 9, 9, 4, 13, 5, 1, 8, 3, 13, 12, 8, 9, 16, 3, 3, 9, 1, 11, 16, 5, 7, 8, 3, 3, 11, 10, 10, 3, 3, 7, 11, 12, 10, 10, 6, 13, 4, 5, 7, 4, 11, 13, 8, 10, 16, 3, 3, 9, 4, 15, 12, 10, 13, 13, 2, 10, 11, 13, 8, 11, 6, 8, 16, 15, 7, 7, 7, 10, 11, 13, 2, 15, 6, 9, 4, 11, 14, 13, 13, 8, 6, 9, 3, 2, 5, 15, 5, 12, 2, 14, 6, 12, 2, 1, 4, 1, 11, 10, 13, 11, 12, 14, 6, 7, 4, 16, 6, 5, 16, 16, 2, 9, 10, 7, 6, 11, 2, 11, 10, 4, 15, 2, 11, 1, 8, 8, 8, 16, 3, 9, 8, 8, 4, 3, 10, 13, 12, 12, 13, 10, 8, 16, 7, 8, 4, 4, 10, 15, 1, 12, 2, 11, 11, 5, 3, 13, 9, 3, 13, 5, 6, 12, 4, 9, 15, 1, 10, 13, 3, 5, 9, 2, 14, 13, 15, 7, 14, 5, 4, 15, 1, 13, 6, 11, 1, 13, 15, 12, 10, 11, 13, 6, 4, 14, 13, 7, 2, 4, 9, 10, 12, 14, 6, 5, 7, 11, 7, 7, 2, 3, 16, 3, 14, 16, 15, 2, 4, 2, 8, 4, 13, 8, 5, 1, 1, 14, 16, 15, 2, 12, 3, 3, 13, 11, 15, 6, 4, 9, 7, 3, 10, 15, 9, 6, 14, 5, 3, 4, 12, 9, 12, 13, 6, 1, 15, 13, 10, 1, 9, 10, 2, 13, 10, 16, 1, 12, 8, 12, 12, 14, 12, 4, 16, 15, 14, 2, 3, 15, 4, 9, 12, 10, 2, 4, 16, 3, 2, 10, 4, 6, 1, 10, 3, 5, 1, 1, 10, 15, 12, 10, 6, 4, 14, 5, 2, 3, 1, 14, 13, 3, 6, 7, 16, 6, 16, 6, 6, 9, 11, 1, 15, 7, 16, 12, 13, 10, 2, 2, 8, 1, 6, 16, 11, 8, 1, 11, 5, 2, 10, 8, 5, 13, 5, 9, 12, 14, 8, 1, 8, 10, 14, 3, 16, 5, 11, 16, 4, 7, 5, 12, 1, 1, 12, 4, 12, 14, 4, 14, 15, 13, 7, 15, 2, 6, 12, 15, 9, 3, 4, 2, 7, 14, 10, 4, 12, 8, 11, 6, 15, 10, 12, 11, 9, 15, 15, 12, 12, 15, 5, 5, 7, 16, 2, 11, 14, 4, 7, 4, 11, 15, 7, 16, 2, 15, 5, 10, 3, 7, 11, 5, 11, 12, 15, 10, 16, 7, 2, 8, 8, 5, 16, 13, 7, 12, 5, 7, 4, 5, 1, 5, 4, 11, 9, 12, 10, 15, 12, 1, 8, 9, 1, 4, 6, 9, 3, 3, 12, 11, 10, 12, 4, 2, 11, 12, 12, 8, 4, 2, 7, 2, 3, 15, 3, 3]\n"
          ],
          "name": "stdout"
        },
        {
          "output_type": "execute_result",
          "data": {
            "text/plain": [
              "(None, None)"
            ]
          },
          "metadata": {
            "tags": []
          },
          "execution_count": 60
        }
      ]
    },
    {
      "cell_type": "code",
      "metadata": {
        "id": "MwqqZtKFRcaf",
        "colab_type": "code",
        "colab": {
          "base_uri": "https://localhost:8080/",
          "height": 853
        },
        "outputId": "3f24b153-74d7-405a-819a-11da6fafee08"
      },
      "source": [
        "from sklearn.metrics import confusion_matrix \n",
        "from sklearn.metrics import accuracy_score \n",
        "from sklearn.metrics import classification_report\n",
        "con_mat = confusion_matrix(y_test,results_X) \n",
        "  \n",
        "print('Confusion Matrix :')\n",
        "print(con_mat) \n",
        "print('Accuracy Score :',accuracy_score(y_test,results_X) )\n",
        "print('Report : ')\n",
        "print(classification_report(y_test,results_X))"
      ],
      "execution_count": 61,
      "outputs": [
        {
          "output_type": "stream",
          "text": [
            "Confusion Matrix :\n",
            "[[ 0  0  0  0  0  0  0  0  0  0  0  0  0  0  0  0  0]\n",
            " [54  1  5  0  1  0  0  0  0  0  0  0  0  0  0  0  0]\n",
            " [ 0 50  0  0  0  0  0  0  0  0  0  0  0  0  0  0  0]\n",
            " [ 0  0 61  0  0  0  0  0  0  0  0  0  0  0  0  0  0]\n",
            " [ 0  0  0 56  0  0  1  0  0  0  0  0  0  0  0  0  0]\n",
            " [ 0  0  2  0 56  2  0  1  0  0  0  1  0  0  1  0  0]\n",
            " [ 0  0  0  0  1 21  0  0  2  0  0 24  0  1  0  0  0]\n",
            " [ 0  0  0  0  0  0 60  0  0  1  0  0  0  1  0  0  0]\n",
            " [ 0  0  0  5  1  0  0 46  0  0  0  0  0  0  0  0  0]\n",
            " [ 0  0  0  0  2  5  0  1 27  1  0  3  0  1  0  0  0]\n",
            " [ 0  0  0  0  0  0  2  0  0 60  1  1  0  0  0  2  0]\n",
            " [ 0  0  0  0  0  0  0  0  0  0 57  0  0  0  0  0  0]\n",
            " [ 0  0  0  0  0 10  0  0  1  1  0 50  0  0  3  0  0]\n",
            " [ 0  0  0  0  0  0  0  0  0  0  0  0 50  2  5  0  0]\n",
            " [ 0  0  0  0  0  0  0  0  0  1  0  1  0 43  7  0  0]\n",
            " [ 0  0  0  0  0  0  0  0  0  6  0  0  0  5 43  0  0]\n",
            " [ 0  0  0  0  0  0  0  0  0  0  0  0  0  0  0 47  0]]\n",
            "Accuracy Score : 0.015677491601343786\n",
            "Report : \n",
            "              precision    recall  f1-score   support\n",
            "\n",
            "           0       0.00      0.00      0.00         0\n",
            "           1       0.02      0.02      0.02        61\n",
            "           2       0.00      0.00      0.00        50\n",
            "           3       0.00      0.00      0.00        61\n",
            "           4       0.00      0.00      0.00        57\n",
            "           5       0.05      0.03      0.04        63\n",
            "           6       0.00      0.00      0.00        49\n",
            "           7       0.00      0.00      0.00        62\n",
            "           8       0.00      0.00      0.00        52\n",
            "           9       0.01      0.03      0.02        40\n",
            "          10       0.02      0.02      0.02        66\n",
            "          11       0.00      0.00      0.00        57\n",
            "          12       0.00      0.00      0.00        65\n",
            "          13       0.04      0.04      0.04        57\n",
            "          14       0.12      0.13      0.13        52\n",
            "          15       0.00      0.00      0.00        54\n",
            "          16       0.00      0.00      0.00        47\n",
            "\n",
            "    accuracy                           0.02       893\n",
            "   macro avg       0.02      0.02      0.01       893\n",
            "weighted avg       0.02      0.02      0.02       893\n",
            "\n"
          ],
          "name": "stdout"
        },
        {
          "output_type": "stream",
          "text": [
            "/usr/local/lib/python3.6/dist-packages/sklearn/metrics/_classification.py:1272: UndefinedMetricWarning: Precision and F-score are ill-defined and being set to 0.0 in labels with no predicted samples. Use `zero_division` parameter to control this behavior.\n",
            "  _warn_prf(average, modifier, msg_start, len(result))\n",
            "/usr/local/lib/python3.6/dist-packages/sklearn/metrics/_classification.py:1272: UndefinedMetricWarning: Recall and F-score are ill-defined and being set to 0.0 in labels with no true samples. Use `zero_division` parameter to control this behavior.\n",
            "  _warn_prf(average, modifier, msg_start, len(result))\n"
          ],
          "name": "stderr"
        }
      ]
    },
    {
      "cell_type": "code",
      "metadata": {
        "id": "IE4ILHCUwBxy",
        "colab_type": "code",
        "colab": {}
      },
      "source": [
        "test_df = pd.read_csv('/content/drive/My Drive/question_1_dataset/Test.csv')"
      ],
      "execution_count": 0,
      "outputs": []
    },
    {
      "cell_type": "code",
      "metadata": {
        "id": "RvbYCHtT2IB3",
        "colab_type": "code",
        "colab": {
          "base_uri": "https://localhost:8080/",
          "height": 425
        },
        "outputId": "ac760faf-8550-42a4-afd1-4a7481d80d20"
      },
      "source": [
        "test_images=[]\n",
        "for i in range(len(df)):\n",
        "    #print(test_df.loc[i]['name'])\n",
        "    test_images.append(cv2.imread(f'/content/drive/My Drive/question_1_dataset/test/test/{test_df.loc[i][\"name\"]}'))"
      ],
      "execution_count": 31,
      "outputs": [
        {
          "output_type": "error",
          "ename": "KeyError",
          "evalue": "ignored",
          "traceback": [
            "\u001b[0;31m---------------------------------------------------------------------------\u001b[0m",
            "\u001b[0;31mValueError\u001b[0m                                Traceback (most recent call last)",
            "\u001b[0;32m/usr/local/lib/python3.6/dist-packages/pandas/core/indexes/range.py\u001b[0m in \u001b[0;36mget_loc\u001b[0;34m(self, key, method, tolerance)\u001b[0m\n\u001b[1;32m    375\u001b[0m             \u001b[0;32mtry\u001b[0m\u001b[0;34m:\u001b[0m\u001b[0;34m\u001b[0m\u001b[0;34m\u001b[0m\u001b[0m\n\u001b[0;32m--> 376\u001b[0;31m                 \u001b[0;32mreturn\u001b[0m \u001b[0mself\u001b[0m\u001b[0;34m.\u001b[0m\u001b[0m_range\u001b[0m\u001b[0;34m.\u001b[0m\u001b[0mindex\u001b[0m\u001b[0;34m(\u001b[0m\u001b[0mnew_key\u001b[0m\u001b[0;34m)\u001b[0m\u001b[0;34m\u001b[0m\u001b[0;34m\u001b[0m\u001b[0m\n\u001b[0m\u001b[1;32m    377\u001b[0m             \u001b[0;32mexcept\u001b[0m \u001b[0mValueError\u001b[0m\u001b[0;34m:\u001b[0m\u001b[0;34m\u001b[0m\u001b[0;34m\u001b[0m\u001b[0m\n",
            "\u001b[0;31mValueError\u001b[0m: 1914 is not in range",
            "\nDuring handling of the above exception, another exception occurred:\n",
            "\u001b[0;31mKeyError\u001b[0m                                  Traceback (most recent call last)",
            "\u001b[0;32m<ipython-input-31-67a2565ad84b>\u001b[0m in \u001b[0;36m<module>\u001b[0;34m()\u001b[0m\n\u001b[1;32m      2\u001b[0m \u001b[0;32mfor\u001b[0m \u001b[0mi\u001b[0m \u001b[0;32min\u001b[0m \u001b[0mrange\u001b[0m\u001b[0;34m(\u001b[0m\u001b[0mlen\u001b[0m\u001b[0;34m(\u001b[0m\u001b[0mdf\u001b[0m\u001b[0;34m)\u001b[0m\u001b[0;34m)\u001b[0m\u001b[0;34m:\u001b[0m\u001b[0;34m\u001b[0m\u001b[0;34m\u001b[0m\u001b[0m\n\u001b[1;32m      3\u001b[0m     \u001b[0;31m#print(test_df.loc[i]['name'])\u001b[0m\u001b[0;34m\u001b[0m\u001b[0;34m\u001b[0m\u001b[0;34m\u001b[0m\u001b[0m\n\u001b[0;32m----> 4\u001b[0;31m     \u001b[0mtest_images\u001b[0m\u001b[0;34m.\u001b[0m\u001b[0mappend\u001b[0m\u001b[0;34m(\u001b[0m\u001b[0mcv2\u001b[0m\u001b[0;34m.\u001b[0m\u001b[0mimread\u001b[0m\u001b[0;34m(\u001b[0m\u001b[0;34mf'/content/drive/My Drive/question_1_dataset/test/test/{test_df.loc[i][\"name\"]}'\u001b[0m\u001b[0;34m)\u001b[0m\u001b[0;34m)\u001b[0m\u001b[0;34m\u001b[0m\u001b[0;34m\u001b[0m\u001b[0m\n\u001b[0m",
            "\u001b[0;32m/usr/local/lib/python3.6/dist-packages/pandas/core/indexing.py\u001b[0m in \u001b[0;36m__getitem__\u001b[0;34m(self, key)\u001b[0m\n\u001b[1;32m   1422\u001b[0m \u001b[0;34m\u001b[0m\u001b[0m\n\u001b[1;32m   1423\u001b[0m             \u001b[0mmaybe_callable\u001b[0m \u001b[0;34m=\u001b[0m \u001b[0mcom\u001b[0m\u001b[0;34m.\u001b[0m\u001b[0mapply_if_callable\u001b[0m\u001b[0;34m(\u001b[0m\u001b[0mkey\u001b[0m\u001b[0;34m,\u001b[0m \u001b[0mself\u001b[0m\u001b[0;34m.\u001b[0m\u001b[0mobj\u001b[0m\u001b[0;34m)\u001b[0m\u001b[0;34m\u001b[0m\u001b[0;34m\u001b[0m\u001b[0m\n\u001b[0;32m-> 1424\u001b[0;31m             \u001b[0;32mreturn\u001b[0m \u001b[0mself\u001b[0m\u001b[0;34m.\u001b[0m\u001b[0m_getitem_axis\u001b[0m\u001b[0;34m(\u001b[0m\u001b[0mmaybe_callable\u001b[0m\u001b[0;34m,\u001b[0m \u001b[0maxis\u001b[0m\u001b[0;34m=\u001b[0m\u001b[0maxis\u001b[0m\u001b[0;34m)\u001b[0m\u001b[0;34m\u001b[0m\u001b[0;34m\u001b[0m\u001b[0m\n\u001b[0m\u001b[1;32m   1425\u001b[0m \u001b[0;34m\u001b[0m\u001b[0m\n\u001b[1;32m   1426\u001b[0m     \u001b[0;32mdef\u001b[0m \u001b[0m_is_scalar_access\u001b[0m\u001b[0;34m(\u001b[0m\u001b[0mself\u001b[0m\u001b[0;34m,\u001b[0m \u001b[0mkey\u001b[0m\u001b[0;34m:\u001b[0m \u001b[0mTuple\u001b[0m\u001b[0;34m)\u001b[0m\u001b[0;34m:\u001b[0m\u001b[0;34m\u001b[0m\u001b[0;34m\u001b[0m\u001b[0m\n",
            "\u001b[0;32m/usr/local/lib/python3.6/dist-packages/pandas/core/indexing.py\u001b[0m in \u001b[0;36m_getitem_axis\u001b[0;34m(self, key, axis)\u001b[0m\n\u001b[1;32m   1848\u001b[0m         \u001b[0;31m# fall thru to straight lookup\u001b[0m\u001b[0;34m\u001b[0m\u001b[0;34m\u001b[0m\u001b[0;34m\u001b[0m\u001b[0m\n\u001b[1;32m   1849\u001b[0m         \u001b[0mself\u001b[0m\u001b[0;34m.\u001b[0m\u001b[0m_validate_key\u001b[0m\u001b[0;34m(\u001b[0m\u001b[0mkey\u001b[0m\u001b[0;34m,\u001b[0m \u001b[0maxis\u001b[0m\u001b[0;34m)\u001b[0m\u001b[0;34m\u001b[0m\u001b[0;34m\u001b[0m\u001b[0m\n\u001b[0;32m-> 1850\u001b[0;31m         \u001b[0;32mreturn\u001b[0m \u001b[0mself\u001b[0m\u001b[0;34m.\u001b[0m\u001b[0m_get_label\u001b[0m\u001b[0;34m(\u001b[0m\u001b[0mkey\u001b[0m\u001b[0;34m,\u001b[0m \u001b[0maxis\u001b[0m\u001b[0;34m=\u001b[0m\u001b[0maxis\u001b[0m\u001b[0;34m)\u001b[0m\u001b[0;34m\u001b[0m\u001b[0;34m\u001b[0m\u001b[0m\n\u001b[0m\u001b[1;32m   1851\u001b[0m \u001b[0;34m\u001b[0m\u001b[0m\n\u001b[1;32m   1852\u001b[0m \u001b[0;34m\u001b[0m\u001b[0m\n",
            "\u001b[0;32m/usr/local/lib/python3.6/dist-packages/pandas/core/indexing.py\u001b[0m in \u001b[0;36m_get_label\u001b[0;34m(self, label, axis)\u001b[0m\n\u001b[1;32m    158\u001b[0m             \u001b[0;32mraise\u001b[0m \u001b[0mIndexingError\u001b[0m\u001b[0;34m(\u001b[0m\u001b[0;34m\"no slices here, handle elsewhere\"\u001b[0m\u001b[0;34m)\u001b[0m\u001b[0;34m\u001b[0m\u001b[0;34m\u001b[0m\u001b[0m\n\u001b[1;32m    159\u001b[0m \u001b[0;34m\u001b[0m\u001b[0m\n\u001b[0;32m--> 160\u001b[0;31m         \u001b[0;32mreturn\u001b[0m \u001b[0mself\u001b[0m\u001b[0;34m.\u001b[0m\u001b[0mobj\u001b[0m\u001b[0;34m.\u001b[0m\u001b[0m_xs\u001b[0m\u001b[0;34m(\u001b[0m\u001b[0mlabel\u001b[0m\u001b[0;34m,\u001b[0m \u001b[0maxis\u001b[0m\u001b[0;34m=\u001b[0m\u001b[0maxis\u001b[0m\u001b[0;34m)\u001b[0m\u001b[0;34m\u001b[0m\u001b[0;34m\u001b[0m\u001b[0m\n\u001b[0m\u001b[1;32m    161\u001b[0m \u001b[0;34m\u001b[0m\u001b[0m\n\u001b[1;32m    162\u001b[0m     \u001b[0;32mdef\u001b[0m \u001b[0m_get_loc\u001b[0m\u001b[0;34m(\u001b[0m\u001b[0mself\u001b[0m\u001b[0;34m,\u001b[0m \u001b[0mkey\u001b[0m\u001b[0;34m:\u001b[0m \u001b[0mint\u001b[0m\u001b[0;34m,\u001b[0m \u001b[0maxis\u001b[0m\u001b[0;34m:\u001b[0m \u001b[0mint\u001b[0m\u001b[0;34m)\u001b[0m\u001b[0;34m:\u001b[0m\u001b[0;34m\u001b[0m\u001b[0;34m\u001b[0m\u001b[0m\n",
            "\u001b[0;32m/usr/local/lib/python3.6/dist-packages/pandas/core/generic.py\u001b[0m in \u001b[0;36mxs\u001b[0;34m(self, key, axis, level, drop_level)\u001b[0m\n\u001b[1;32m   3735\u001b[0m             \u001b[0mloc\u001b[0m\u001b[0;34m,\u001b[0m \u001b[0mnew_index\u001b[0m \u001b[0;34m=\u001b[0m \u001b[0mself\u001b[0m\u001b[0;34m.\u001b[0m\u001b[0mindex\u001b[0m\u001b[0;34m.\u001b[0m\u001b[0mget_loc_level\u001b[0m\u001b[0;34m(\u001b[0m\u001b[0mkey\u001b[0m\u001b[0;34m,\u001b[0m \u001b[0mdrop_level\u001b[0m\u001b[0;34m=\u001b[0m\u001b[0mdrop_level\u001b[0m\u001b[0;34m)\u001b[0m\u001b[0;34m\u001b[0m\u001b[0;34m\u001b[0m\u001b[0m\n\u001b[1;32m   3736\u001b[0m         \u001b[0;32melse\u001b[0m\u001b[0;34m:\u001b[0m\u001b[0;34m\u001b[0m\u001b[0;34m\u001b[0m\u001b[0m\n\u001b[0;32m-> 3737\u001b[0;31m             \u001b[0mloc\u001b[0m \u001b[0;34m=\u001b[0m \u001b[0mself\u001b[0m\u001b[0;34m.\u001b[0m\u001b[0mindex\u001b[0m\u001b[0;34m.\u001b[0m\u001b[0mget_loc\u001b[0m\u001b[0;34m(\u001b[0m\u001b[0mkey\u001b[0m\u001b[0;34m)\u001b[0m\u001b[0;34m\u001b[0m\u001b[0;34m\u001b[0m\u001b[0m\n\u001b[0m\u001b[1;32m   3738\u001b[0m \u001b[0;34m\u001b[0m\u001b[0m\n\u001b[1;32m   3739\u001b[0m             \u001b[0;32mif\u001b[0m \u001b[0misinstance\u001b[0m\u001b[0;34m(\u001b[0m\u001b[0mloc\u001b[0m\u001b[0;34m,\u001b[0m \u001b[0mnp\u001b[0m\u001b[0;34m.\u001b[0m\u001b[0mndarray\u001b[0m\u001b[0;34m)\u001b[0m\u001b[0;34m:\u001b[0m\u001b[0;34m\u001b[0m\u001b[0;34m\u001b[0m\u001b[0m\n",
            "\u001b[0;32m/usr/local/lib/python3.6/dist-packages/pandas/core/indexes/range.py\u001b[0m in \u001b[0;36mget_loc\u001b[0;34m(self, key, method, tolerance)\u001b[0m\n\u001b[1;32m    376\u001b[0m                 \u001b[0;32mreturn\u001b[0m \u001b[0mself\u001b[0m\u001b[0;34m.\u001b[0m\u001b[0m_range\u001b[0m\u001b[0;34m.\u001b[0m\u001b[0mindex\u001b[0m\u001b[0;34m(\u001b[0m\u001b[0mnew_key\u001b[0m\u001b[0;34m)\u001b[0m\u001b[0;34m\u001b[0m\u001b[0;34m\u001b[0m\u001b[0m\n\u001b[1;32m    377\u001b[0m             \u001b[0;32mexcept\u001b[0m \u001b[0mValueError\u001b[0m\u001b[0;34m:\u001b[0m\u001b[0;34m\u001b[0m\u001b[0;34m\u001b[0m\u001b[0m\n\u001b[0;32m--> 378\u001b[0;31m                 \u001b[0;32mraise\u001b[0m \u001b[0mKeyError\u001b[0m\u001b[0;34m(\u001b[0m\u001b[0mkey\u001b[0m\u001b[0;34m)\u001b[0m\u001b[0;34m\u001b[0m\u001b[0;34m\u001b[0m\u001b[0m\n\u001b[0m\u001b[1;32m    379\u001b[0m         \u001b[0;32mreturn\u001b[0m \u001b[0msuper\u001b[0m\u001b[0;34m(\u001b[0m\u001b[0;34m)\u001b[0m\u001b[0;34m.\u001b[0m\u001b[0mget_loc\u001b[0m\u001b[0;34m(\u001b[0m\u001b[0mkey\u001b[0m\u001b[0;34m,\u001b[0m \u001b[0mmethod\u001b[0m\u001b[0;34m=\u001b[0m\u001b[0mmethod\u001b[0m\u001b[0;34m,\u001b[0m \u001b[0mtolerance\u001b[0m\u001b[0;34m=\u001b[0m\u001b[0mtolerance\u001b[0m\u001b[0;34m)\u001b[0m\u001b[0;34m\u001b[0m\u001b[0;34m\u001b[0m\u001b[0m\n\u001b[1;32m    380\u001b[0m \u001b[0;34m\u001b[0m\u001b[0m\n",
            "\u001b[0;31mKeyError\u001b[0m: 1914"
          ]
        }
      ]
    },
    {
      "cell_type": "code",
      "metadata": {
        "id": "Ed36nKiSQt-a",
        "colab_type": "code",
        "colab": {}
      },
      "source": [
        ""
      ],
      "execution_count": 0,
      "outputs": []
    },
    {
      "cell_type": "code",
      "metadata": {
        "id": "yX-6ncD09VuD",
        "colab_type": "code",
        "colab": {}
      },
      "source": [
        "predictions = model.predict([X_test])"
      ],
      "execution_count": 0,
      "outputs": []
    },
    {
      "cell_type": "code",
      "metadata": {
        "id": "xL-CQaEv9Z2a",
        "colab_type": "code",
        "colab": {}
      },
      "source": [
        "results_test = []\n",
        "for i in range(len(predictions)):\n",
        "  results_test.append(np.argmax(predictions[i]))"
      ],
      "execution_count": 0,
      "outputs": []
    },
    {
      "cell_type": "code",
      "metadata": {
        "id": "rtPa3Lm6-jhV",
        "colab_type": "code",
        "colab": {}
      },
      "source": [
        "test_df['category']=results_test"
      ],
      "execution_count": 0,
      "outputs": []
    },
    {
      "cell_type": "code",
      "metadata": {
        "id": "1iX-4DK1-uI4",
        "colab_type": "code",
        "colab": {}
      },
      "source": [
        "test_df.head()"
      ],
      "execution_count": 0,
      "outputs": []
    },
    {
      "cell_type": "code",
      "metadata": {
        "id": "jdNaMR_j-vwV",
        "colab_type": "code",
        "colab": {}
      },
      "source": [
        "test_df.to_csv('results.csv')"
      ],
      "execution_count": 0,
      "outputs": []
    },
    {
      "cell_type": "code",
      "metadata": {
        "id": "KUp5e6WF_iYc",
        "colab_type": "code",
        "colab": {}
      },
      "source": [
        "test_df['category'].head()"
      ],
      "execution_count": 0,
      "outputs": []
    },
    {
      "cell_type": "code",
      "metadata": {
        "id": "ZFxkcIXs_jcS",
        "colab_type": "code",
        "colab": {}
      },
      "source": [
        "test_df['category']+1"
      ],
      "execution_count": 0,
      "outputs": []
    },
    {
      "cell_type": "code",
      "metadata": {
        "id": "pkGfGn3Y_yFm",
        "colab_type": "code",
        "colab": {}
      },
      "source": [
        ""
      ],
      "execution_count": 0,
      "outputs": []
    },
    {
      "cell_type": "code",
      "metadata": {
        "id": "K29So08p__Hd",
        "colab_type": "code",
        "colab": {}
      },
      "source": [
        "test_df.head()"
      ],
      "execution_count": 0,
      "outputs": []
    },
    {
      "cell_type": "code",
      "metadata": {
        "id": "jJNppKCYADdO",
        "colab_type": "code",
        "colab": {}
      },
      "source": [
        "test_df['category'] = test_df['category']+1\n",
        "test_df.to_csv('Task1_Result.csv')"
      ],
      "execution_count": 0,
      "outputs": []
    },
    {
      "cell_type": "code",
      "metadata": {
        "id": "PXsrYvNwAMp2",
        "colab_type": "code",
        "colab": {}
      },
      "source": [
        ""
      ],
      "execution_count": 0,
      "outputs": []
    }
  ]
}