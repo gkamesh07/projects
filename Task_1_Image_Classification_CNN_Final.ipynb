{
  "nbformat": 4,
  "nbformat_minor": 0,
  "metadata": {
    "kernelspec": {
      "name": "python3",
      "display_name": "Python 3"
    },
    "language_info": {
      "codemirror_mode": {
        "name": "ipython",
        "version": 3
      },
      "file_extension": ".py",
      "mimetype": "text/x-python",
      "name": "python",
      "nbconvert_exporter": "python",
      "pygments_lexer": "ipython3",
      "version": "3.6.9"
    },
    "colab": {
      "name": "Task_1_Image_Classification_Final.ipynb",
      "provenance": [],
      "collapsed_sections": [],
      "toc_visible": true,
      "machine_shape": "hm"
    },
    "accelerator": "GPU"
  },
  "cells": [
    {
      "cell_type": "code",
      "metadata": {
        "id": "PHWgi7RSetg6",
        "colab_type": "code",
        "colab": {}
      },
      "source": [
        "import pandas as pd\n",
        "import numpy as np\n",
        "from matplotlib.pyplot import imshow\n",
        "from os import listdir\n",
        "import keras\n",
        "from keras.models import Sequential\n",
        "from keras.layers import Dense, Dropout, Flatten\n",
        "from keras.layers import Conv2D, MaxPooling2D\n",
        "from keras.utils import to_categorical\n",
        "from keras.preprocessing import image\n",
        "import matplotlib.pyplot as plt\n",
        "from sklearn.model_selection import train_test_split\n",
        "from keras.utils import to_categorical\n",
        "from tqdm import tqdm"
      ],
      "execution_count": 0,
      "outputs": []
    },
    {
      "cell_type": "code",
      "metadata": {
        "id": "Rqy56biPe4nG",
        "colab_type": "code",
        "outputId": "ba8a3cee-3ae9-4d48-ea3a-c84e61671929",
        "colab": {
          "base_uri": "https://localhost:8080/",
          "height": 34
        }
      },
      "source": [
        "from google.colab import drive\n",
        "drive.mount('/content/drive')"
      ],
      "execution_count": 11,
      "outputs": [
        {
          "output_type": "stream",
          "text": [
            "Drive already mounted at /content/drive; to attempt to forcibly remount, call drive.mount(\"/content/drive\", force_remount=True).\n"
          ],
          "name": "stdout"
        }
      ]
    },
    {
      "cell_type": "code",
      "metadata": {
        "id": "L8FCDI5pethD",
        "colab_type": "code",
        "colab": {}
      },
      "source": [
        "df = pd.read_csv('/content/drive/My Drive/question_1_dataset/Train.csv') # read the training data file from working directory\n",
        "imagePath = '/content/drive/My Drive/question_1_dataset/train/train/'"
      ],
      "execution_count": 0,
      "outputs": []
    },
    {
      "cell_type": "code",
      "metadata": {
        "id": "SzL8PNK6ethL",
        "colab_type": "code",
        "outputId": "aee2755a-af83-40f8-d155-877463859457",
        "colab": {
          "base_uri": "https://localhost:8080/",
          "height": 419
        }
      },
      "source": [
        "df"
      ],
      "execution_count": 13,
      "outputs": [
        {
          "output_type": "execute_result",
          "data": {
            "text/html": [
              "<div>\n",
              "<style scoped>\n",
              "    .dataframe tbody tr th:only-of-type {\n",
              "        vertical-align: middle;\n",
              "    }\n",
              "\n",
              "    .dataframe tbody tr th {\n",
              "        vertical-align: top;\n",
              "    }\n",
              "\n",
              "    .dataframe thead th {\n",
              "        text-align: right;\n",
              "    }\n",
              "</style>\n",
              "<table border=\"1\" class=\"dataframe\">\n",
              "  <thead>\n",
              "    <tr style=\"text-align: right;\">\n",
              "      <th></th>\n",
              "      <th>name</th>\n",
              "      <th>category</th>\n",
              "    </tr>\n",
              "  </thead>\n",
              "  <tbody>\n",
              "    <tr>\n",
              "      <th>0</th>\n",
              "      <td>1.png</td>\n",
              "      <td>9</td>\n",
              "    </tr>\n",
              "    <tr>\n",
              "      <th>1</th>\n",
              "      <td>2.png</td>\n",
              "      <td>3</td>\n",
              "    </tr>\n",
              "    <tr>\n",
              "      <th>2</th>\n",
              "      <td>3.png</td>\n",
              "      <td>9</td>\n",
              "    </tr>\n",
              "    <tr>\n",
              "      <th>3</th>\n",
              "      <td>4.png</td>\n",
              "      <td>8</td>\n",
              "    </tr>\n",
              "    <tr>\n",
              "      <th>4</th>\n",
              "      <td>5.png</td>\n",
              "      <td>13</td>\n",
              "    </tr>\n",
              "    <tr>\n",
              "      <th>...</th>\n",
              "      <td>...</td>\n",
              "      <td>...</td>\n",
              "    </tr>\n",
              "    <tr>\n",
              "      <th>4460</th>\n",
              "      <td>4461.png</td>\n",
              "      <td>8</td>\n",
              "    </tr>\n",
              "    <tr>\n",
              "      <th>4461</th>\n",
              "      <td>4462.png</td>\n",
              "      <td>13</td>\n",
              "    </tr>\n",
              "    <tr>\n",
              "      <th>4462</th>\n",
              "      <td>4463.png</td>\n",
              "      <td>6</td>\n",
              "    </tr>\n",
              "    <tr>\n",
              "      <th>4463</th>\n",
              "      <td>4464.png</td>\n",
              "      <td>14</td>\n",
              "    </tr>\n",
              "    <tr>\n",
              "      <th>4464</th>\n",
              "      <td>4465.png</td>\n",
              "      <td>16</td>\n",
              "    </tr>\n",
              "  </tbody>\n",
              "</table>\n",
              "<p>4465 rows × 2 columns</p>\n",
              "</div>"
            ],
            "text/plain": [
              "          name  category\n",
              "0        1.png         9\n",
              "1        2.png         3\n",
              "2        3.png         9\n",
              "3        4.png         8\n",
              "4        5.png        13\n",
              "...        ...       ...\n",
              "4460  4461.png         8\n",
              "4461  4462.png        13\n",
              "4462  4463.png         6\n",
              "4463  4464.png        14\n",
              "4464  4465.png        16\n",
              "\n",
              "[4465 rows x 2 columns]"
            ]
          },
          "metadata": {
            "tags": []
          },
          "execution_count": 13
        }
      ]
    },
    {
      "cell_type": "code",
      "metadata": {
        "colab_type": "code",
        "outputId": "0d1cfc06-eb9a-493e-c66f-ae5f122a08b4",
        "id": "it4qlZ9YHpz8",
        "colab": {
          "base_uri": "https://localhost:8080/",
          "height": 34
        }
      },
      "source": [
        "df['category'].unique()"
      ],
      "execution_count": 14,
      "outputs": [
        {
          "output_type": "execute_result",
          "data": {
            "text/plain": [
              "array([ 9,  3,  8, 13,  7,  2, 16,  6,  1, 14, 15, 12, 10, 11,  5,  4])"
            ]
          },
          "metadata": {
            "tags": []
          },
          "execution_count": 14
        }
      ]
    },
    {
      "cell_type": "code",
      "metadata": {
        "id": "weBZ8V__etjG",
        "colab_type": "code",
        "colab": {
          "base_uri": "https://localhost:8080/",
          "height": 51
        },
        "outputId": "afcd4ae5-845a-4341-f822-06e2720af169"
      },
      "source": [
        "train_image = []\n",
        "for i in tqdm(range(df.shape[0])):\n",
        "    img = image.load_img('/content/drive/My Drive/question_1_dataset/train/train/'+ df['name'][i], target_size=(200,200,3))\n",
        "    img = image.img_to_array(img)\n",
        "    img = img/255\n",
        "    train_image.append(img)\n",
        "X = np.array(train_image)"
      ],
      "execution_count": 15,
      "outputs": [
        {
          "output_type": "stream",
          "text": [
            "100%|██████████| 4465/4465 [24:14<00:00,  2.67it/s]\n",
            "100%|██████████| 4465/4465 [00:11<00:00, 405.08it/s]\n"
          ],
          "name": "stderr"
        }
      ]
    },
    {
      "cell_type": "code",
      "metadata": {
        "id": "y0cJTTxk2e9A",
        "colab_type": "code",
        "colab": {
          "base_uri": "https://localhost:8080/",
          "height": 286
        },
        "outputId": "d29fc863-f74b-4d46-d7f0-7261c4c64ee5"
      },
      "source": [
        "plt.imshow(train_image[0])"
      ],
      "execution_count": 16,
      "outputs": [
        {
          "output_type": "execute_result",
          "data": {
            "text/plain": [
              "<matplotlib.image.AxesImage at 0x7f215e0a6470>"
            ]
          },
          "metadata": {
            "tags": []
          },
          "execution_count": 16
        },
        {
          "output_type": "display_data",
          "data": {
            "image/png": "[encoded data removed]",
            "text/plain": [
              "<Figure size 432x288 with 1 Axes>"
            ]
          },
          "metadata": {
            "tags": []
          }
        }
      ]
    },
    {
      "cell_type": "code",
      "metadata": {
        "id": "FKavTyHOcNtY",
        "colab_type": "code",
        "colab": {}
      },
      "source": [
        "y=df['category'].values\n",
        "y = to_categorical(y)\n",
        "df['category'].value_counts()\n",
        "y=pd.get_dummies(df['category'])"
      ],
      "execution_count": 0,
      "outputs": []
    },
    {
      "cell_type": "code",
      "metadata": {
        "id": "LSwBUVTZgpZa",
        "colab_type": "code",
        "colab": {
          "base_uri": "https://localhost:8080/",
          "height": 255
        },
        "outputId": "b07f3610-4b2a-48c1-8c08-f587bc4ddf14"
      },
      "source": [
        "from sklearn.model_selection import train_test_split\n",
        "X_train, X_test, y_train, y_test = train_test_split(X, y, random_state=42, test_size=0.3)\n",
        "print((y_test))"
      ],
      "execution_count": 72,
      "outputs": [
        {
          "output_type": "stream",
          "text": [
            "      1   2   3   4   5   6   7   8   9   10  11  12  13  14  15  16\n",
            "297    0   1   0   0   0   0   0   0   0   0   0   0   0   0   0   0\n",
            "969    0   0   0   0   1   0   0   0   0   0   0   0   0   0   0   0\n",
            "3434   0   0   0   0   0   0   0   1   0   0   0   0   0   0   0   0\n",
            "598    0   0   0   0   0   0   0   0   0   0   0   0   0   0   0   1\n",
            "2377   0   0   0   1   0   0   0   0   0   0   0   0   0   0   0   0\n",
            "...   ..  ..  ..  ..  ..  ..  ..  ..  ..  ..  ..  ..  ..  ..  ..  ..\n",
            "2059   0   0   0   0   0   0   0   0   1   0   0   0   0   0   0   0\n",
            "1088   0   0   0   0   0   0   0   0   0   0   0   0   0   0   1   0\n",
            "479    0   0   0   0   0   0   0   0   0   0   0   0   1   0   0   0\n",
            "727    0   1   0   0   0   0   0   0   0   0   0   0   0   0   0   0\n",
            "3026   0   0   0   0   0   0   0   0   0   0   1   0   0   0   0   0\n",
            "\n",
            "[1340 rows x 16 columns]\n"
          ],
          "name": "stdout"
        }
      ]
    },
    {
      "cell_type": "code",
      "metadata": {
        "id": "Yxba-9W0gpsD",
        "colab_type": "code",
        "colab": {}
      },
      "source": [
        "model = Sequential()\n",
        "model.add(Conv2D(32, kernel_size=(3, 3),activation='relu',input_shape=(200,200,3)))\n",
        "model.add(Conv2D(64, (3, 3), activation='relu'))\n",
        "model.add(MaxPooling2D(pool_size=(2, 2)))\n",
        "model.add(Dropout(0.25))\n",
        "model.add(Flatten())\n",
        "model.add(Dense(128, activation='relu'))\n",
        "model.add(Dropout(0.5))\n",
        "model.add(Dense(16, activation='softmax'))"
      ],
      "execution_count": 0,
      "outputs": []
    },
    {
      "cell_type": "code",
      "metadata": {
        "id": "2OrfxKZwetIY",
        "colab_type": "code",
        "colab": {}
      },
      "source": [
        "model.compile(loss='categorical_crossentropy',optimizer='Adam',metrics=['accuracy'])"
      ],
      "execution_count": 0,
      "outputs": []
    },
    {
      "cell_type": "code",
      "metadata": {
        "id": "WlDIllzgcTSX",
        "colab_type": "code",
        "colab": {
          "base_uri": "https://localhost:8080/",
          "height": 1751
        },
        "outputId": "e09849d5-b046-4ec8-a4be-1fa703a98c9e"
      },
      "source": [
        "model.fit(X_train, y_train, epochs=50, validation_data=(X_test, y_test))"
      ],
      "execution_count": 111,
      "outputs": [
        {
          "output_type": "stream",
          "text": [
            "Train on 3125 samples, validate on 1340 samples\n",
            "Epoch 1/50\n",
            "3125/3125 [==============================] - 9s 3ms/step - loss: 0.1757 - acc: 0.9309 - val_loss: 0.5232 - val_acc: 0.8299\n",
            "Epoch 2/50\n",
            "3125/3125 [==============================] - 9s 3ms/step - loss: 0.1463 - acc: 0.9472 - val_loss: 0.4378 - val_acc: 0.8291\n",
            "Epoch 3/50\n",
            "3125/3125 [==============================] - 9s 3ms/step - loss: 0.1222 - acc: 0.9533 - val_loss: 0.4315 - val_acc: 0.8388\n",
            "Epoch 4/50\n",
            "3125/3125 [==============================] - 9s 3ms/step - loss: 0.1068 - acc: 0.9581 - val_loss: 0.4885 - val_acc: 0.8321\n",
            "Epoch 5/50\n",
            "3125/3125 [==============================] - 9s 3ms/step - loss: 0.0927 - acc: 0.9638 - val_loss: 0.5533 - val_acc: 0.8313\n",
            "Epoch 6/50\n",
            "3125/3125 [==============================] - 9s 3ms/step - loss: 0.0817 - acc: 0.9702 - val_loss: 0.5418 - val_acc: 0.8373\n",
            "Epoch 7/50\n",
            "3125/3125 [==============================] - 9s 3ms/step - loss: 0.0905 - acc: 0.9693 - val_loss: 0.5344 - val_acc: 0.8381\n",
            "Epoch 8/50\n",
            "3125/3125 [==============================] - 9s 3ms/step - loss: 0.0849 - acc: 0.9667 - val_loss: 0.4752 - val_acc: 0.8351\n",
            "Epoch 9/50\n",
            "3125/3125 [==============================] - 9s 3ms/step - loss: 0.0741 - acc: 0.9741 - val_loss: 0.5591 - val_acc: 0.8336\n",
            "Epoch 10/50\n",
            "3125/3125 [==============================] - 9s 3ms/step - loss: 0.0617 - acc: 0.9776 - val_loss: 0.4896 - val_acc: 0.8276\n",
            "Epoch 11/50\n",
            "3125/3125 [==============================] - 9s 3ms/step - loss: 0.0514 - acc: 0.9792 - val_loss: 0.6178 - val_acc: 0.8313\n",
            "Epoch 12/50\n",
            "3125/3125 [==============================] - 9s 3ms/step - loss: 0.0530 - acc: 0.9786 - val_loss: 0.6004 - val_acc: 0.8299\n",
            "Epoch 13/50\n",
            "3125/3125 [==============================] - 9s 3ms/step - loss: 0.0531 - acc: 0.9827 - val_loss: 0.5675 - val_acc: 0.8410\n",
            "Epoch 14/50\n",
            "3125/3125 [==============================] - 9s 3ms/step - loss: 0.0371 - acc: 0.9869 - val_loss: 0.5924 - val_acc: 0.8388\n",
            "Epoch 15/50\n",
            "3125/3125 [==============================] - 9s 3ms/step - loss: 0.0471 - acc: 0.9824 - val_loss: 0.5678 - val_acc: 0.8396\n",
            "Epoch 16/50\n",
            "3125/3125 [==============================] - 9s 3ms/step - loss: 0.0350 - acc: 0.9888 - val_loss: 0.6347 - val_acc: 0.8299\n",
            "Epoch 17/50\n",
            "3125/3125 [==============================] - 9s 3ms/step - loss: 0.0421 - acc: 0.9853 - val_loss: 0.6477 - val_acc: 0.8328\n",
            "Epoch 18/50\n",
            "3125/3125 [==============================] - 9s 3ms/step - loss: 0.0411 - acc: 0.9866 - val_loss: 0.5933 - val_acc: 0.8306\n",
            "Epoch 19/50\n",
            "3125/3125 [==============================] - 9s 3ms/step - loss: 0.0374 - acc: 0.9869 - val_loss: 0.7116 - val_acc: 0.8328\n",
            "Epoch 20/50\n",
            "3125/3125 [==============================] - 9s 3ms/step - loss: 0.0475 - acc: 0.9830 - val_loss: 0.6086 - val_acc: 0.8373\n",
            "Epoch 21/50\n",
            "3125/3125 [==============================] - 9s 3ms/step - loss: 0.0374 - acc: 0.9894 - val_loss: 0.7353 - val_acc: 0.8381\n",
            "Epoch 22/50\n",
            "3125/3125 [==============================] - 9s 3ms/step - loss: 0.0285 - acc: 0.9907 - val_loss: 0.6364 - val_acc: 0.8239\n",
            "Epoch 23/50\n",
            "3125/3125 [==============================] - 9s 3ms/step - loss: 0.0356 - acc: 0.9878 - val_loss: 0.7068 - val_acc: 0.8321\n",
            "Epoch 24/50\n",
            "3125/3125 [==============================] - 9s 3ms/step - loss: 0.0298 - acc: 0.9888 - val_loss: 0.6648 - val_acc: 0.8269\n",
            "Epoch 25/50\n",
            "3125/3125 [==============================] - 9s 3ms/step - loss: 0.0202 - acc: 0.9917 - val_loss: 0.8277 - val_acc: 0.8239\n",
            "Epoch 26/50\n",
            "3125/3125 [==============================] - 9s 3ms/step - loss: 0.0306 - acc: 0.9907 - val_loss: 0.7866 - val_acc: 0.8299\n",
            "Epoch 27/50\n",
            "3125/3125 [==============================] - 9s 3ms/step - loss: 0.0211 - acc: 0.9930 - val_loss: 0.8225 - val_acc: 0.8284\n",
            "Epoch 28/50\n",
            "3125/3125 [==============================] - 9s 3ms/step - loss: 0.0259 - acc: 0.9910 - val_loss: 0.7962 - val_acc: 0.8254\n",
            "Epoch 29/50\n",
            "3125/3125 [==============================] - 9s 3ms/step - loss: 0.0239 - acc: 0.9910 - val_loss: 0.8301 - val_acc: 0.8216\n",
            "Epoch 30/50\n",
            "3125/3125 [==============================] - 9s 3ms/step - loss: 0.0271 - acc: 0.9907 - val_loss: 0.7707 - val_acc: 0.8261\n",
            "Epoch 31/50\n",
            "3125/3125 [==============================] - 9s 3ms/step - loss: 0.0254 - acc: 0.9923 - val_loss: 0.8987 - val_acc: 0.8179\n",
            "Epoch 32/50\n",
            "3125/3125 [==============================] - 9s 3ms/step - loss: 0.0221 - acc: 0.9926 - val_loss: 0.8147 - val_acc: 0.8254\n",
            "Epoch 33/50\n",
            "3125/3125 [==============================] - 9s 3ms/step - loss: 0.0271 - acc: 0.9920 - val_loss: 0.7787 - val_acc: 0.8239\n",
            "Epoch 34/50\n",
            "3125/3125 [==============================] - 9s 3ms/step - loss: 0.0284 - acc: 0.9917 - val_loss: 0.7723 - val_acc: 0.8284\n",
            "Epoch 35/50\n",
            "3125/3125 [==============================] - 9s 3ms/step - loss: 0.0163 - acc: 0.9936 - val_loss: 0.8265 - val_acc: 0.8291\n",
            "Epoch 36/50\n",
            "3125/3125 [==============================] - 9s 3ms/step - loss: 0.0265 - acc: 0.9920 - val_loss: 0.7790 - val_acc: 0.8231\n",
            "Epoch 37/50\n",
            "3125/3125 [==============================] - 9s 3ms/step - loss: 0.0203 - acc: 0.9930 - val_loss: 0.8843 - val_acc: 0.8157\n",
            "Epoch 38/50\n",
            "3125/3125 [==============================] - 9s 3ms/step - loss: 0.0215 - acc: 0.9920 - val_loss: 0.9690 - val_acc: 0.8037\n",
            "Epoch 39/50\n",
            "3125/3125 [==============================] - 9s 3ms/step - loss: 0.0154 - acc: 0.9952 - val_loss: 0.9557 - val_acc: 0.8149\n",
            "Epoch 40/50\n",
            "3125/3125 [==============================] - 9s 3ms/step - loss: 0.0190 - acc: 0.9923 - val_loss: 0.8849 - val_acc: 0.8254\n",
            "Epoch 41/50\n",
            "3125/3125 [==============================] - 9s 3ms/step - loss: 0.0195 - acc: 0.9930 - val_loss: 0.8825 - val_acc: 0.8254\n",
            "Epoch 42/50\n",
            "3125/3125 [==============================] - 9s 3ms/step - loss: 0.0189 - acc: 0.9923 - val_loss: 0.9522 - val_acc: 0.8224\n",
            "Epoch 43/50\n",
            "3125/3125 [==============================] - 9s 3ms/step - loss: 0.0235 - acc: 0.9926 - val_loss: 0.8698 - val_acc: 0.8231\n",
            "Epoch 44/50\n",
            "3125/3125 [==============================] - 9s 3ms/step - loss: 0.0183 - acc: 0.9933 - val_loss: 0.8062 - val_acc: 0.8194\n",
            "Epoch 45/50\n",
            "3125/3125 [==============================] - 9s 3ms/step - loss: 0.0140 - acc: 0.9955 - val_loss: 1.0017 - val_acc: 0.8179\n",
            "Epoch 46/50\n",
            "3125/3125 [==============================] - 9s 3ms/step - loss: 0.0174 - acc: 0.9933 - val_loss: 0.9229 - val_acc: 0.8239\n",
            "Epoch 47/50\n",
            "3125/3125 [==============================] - 9s 3ms/step - loss: 0.0166 - acc: 0.9936 - val_loss: 0.9389 - val_acc: 0.8231\n",
            "Epoch 48/50\n",
            "3125/3125 [==============================] - 9s 3ms/step - loss: 0.0100 - acc: 0.9971 - val_loss: 1.0223 - val_acc: 0.8261\n",
            "Epoch 49/50\n",
            "3125/3125 [==============================] - 9s 3ms/step - loss: 0.0163 - acc: 0.9946 - val_loss: 0.8635 - val_acc: 0.8209\n",
            "Epoch 50/50\n",
            "3125/3125 [==============================] - 9s 3ms/step - loss: 0.0144 - acc: 0.9942 - val_loss: 0.9321 - val_acc: 0.8179\n"
          ],
          "name": "stdout"
        },
        {
          "output_type": "execute_result",
          "data": {
            "text/plain": [
              "<keras.callbacks.History at 0x7f20e88afd68>"
            ]
          },
          "metadata": {
            "tags": []
          },
          "execution_count": 111
        }
      ]
    },
    {
      "cell_type": "code",
      "metadata": {
        "id": "gED4xO4qEEbE",
        "colab_type": "code",
        "colab": {
          "base_uri": "https://localhost:8080/",
          "height": 51
        },
        "outputId": "992f2626-3f97-4354-b842-511b96589a76"
      },
      "source": [
        "y_predict = model.predict_classes(X_test)\n",
        "print(y_predict)\n",
        "Y_test = np.array(y_test)\n",
        "res = np.argmax(Y_test,axis=1)\n",
        "print(res)"
      ],
      "execution_count": 128,
      "outputs": [
        {
          "output_type": "stream",
          "text": [
            "[ 1  4  7 ... 12  1 10]\n",
            "[ 1  4  7 ... 12  1 10]\n"
          ],
          "name": "stdout"
        }
      ]
    },
    {
      "cell_type": "code",
      "metadata": {
        "id": "1DecrlaFRXo3",
        "colab_type": "code",
        "colab": {
          "base_uri": "https://localhost:8080/",
          "height": 680
        },
        "outputId": "342f211c-e17e-4a19-a955-0c78149566ca"
      },
      "source": [
        "from sklearn.metrics import confusion_matrix\n",
        "from sklearn.metrics import classification_report\n",
        "target= ['1','2','3','4','5','6','7','8','9','10','11','12','13','14','15','16']\n",
        "matrix = confusion_matrix(res, y_predict)\n",
        "print(matrix)\n",
        "print(classification_report(res, y_predict,target_names=target))"
      ],
      "execution_count": 113,
      "outputs": [
        {
          "output_type": "stream",
          "text": [
            "[[65  1  2  0 11  0  0  0  0  0  0  0  0  0  0  0]\n",
            " [ 3 74  0  0  1  0  0  0  0  0  0  0  0  0  0  0]\n",
            " [ 0  0 79  0  1  0  0  4  1  0  0  0  0  0  0  0]\n",
            " [ 0  0  0 82  0  0  1  0  0  0  0  0  0  0  0  0]\n",
            " [ 2  0  0  0 72  0  0  3  2  0  0  0  3  3  2  0]\n",
            " [ 0  0  0  0  0 25  0  0  7  0  0 40  0  1  0  0]\n",
            " [ 0  0  0  0  0  0 85  0  0  0  0  1  0  2  1  0]\n",
            " [ 1  0  0  6  1  1  0 73  3  0  0  1  0  0  0  0]\n",
            " [ 0  0  1  0  0 22  0  1 41  0  0 11  0  0  1  0]\n",
            " [ 0  0  0  0  0  0  0  0  0 85  0  0  0  1  0  2]\n",
            " [ 0  0  0  0  0  0  0  0  0  0 87  0  0  0  0  0]\n",
            " [ 0  0  0  0  0 49  0  0  0  0  0 46  0  0  0  0]\n",
            " [ 0  0  0  0  0  0  0  0  0  0  0  0 87  3  5  0]\n",
            " [ 0  0  0  0  0  0  0  0  1  0  0  0  1 53 23  1]\n",
            " [ 0  0  0  0  0  0  0  0  0  0  0  5  0 10 57  1]\n",
            " [ 0  0  0  0  0  0  0  0  0  0  0  0  0  0  1 85]]\n",
            "              precision    recall  f1-score   support\n",
            "\n",
            "           1       0.92      0.82      0.87        79\n",
            "           2       0.99      0.95      0.97        78\n",
            "           3       0.96      0.93      0.95        85\n",
            "           4       0.93      0.99      0.96        83\n",
            "           5       0.84      0.83      0.83        87\n",
            "           6       0.26      0.34      0.29        73\n",
            "           7       0.99      0.96      0.97        89\n",
            "           8       0.90      0.85      0.87        86\n",
            "           9       0.75      0.53      0.62        77\n",
            "          10       1.00      0.97      0.98        88\n",
            "          11       1.00      1.00      1.00        87\n",
            "          12       0.44      0.48      0.46        95\n",
            "          13       0.96      0.92      0.94        95\n",
            "          14       0.73      0.67      0.70        79\n",
            "          15       0.63      0.78      0.70        73\n",
            "          16       0.96      0.99      0.97        86\n",
            "\n",
            "    accuracy                           0.82      1340\n",
            "   macro avg       0.83      0.81      0.82      1340\n",
            "weighted avg       0.83      0.82      0.82      1340\n",
            "\n"
          ],
          "name": "stdout"
        }
      ]
    },
    {
      "cell_type": "code",
      "metadata": {
        "id": "lcKYTwn6uEN1",
        "colab_type": "code",
        "colab": {}
      },
      "source": [
        "test_df = pd.read_csv('/content/drive/My Drive/question_1_dataset/Test.csv')"
      ],
      "execution_count": 0,
      "outputs": []
    },
    {
      "cell_type": "code",
      "metadata": {
        "id": "4aJNFSqCcTrY",
        "colab_type": "code",
        "colab": {
          "base_uri": "https://localhost:8080/",
          "height": 34
        },
        "outputId": "3260db49-c6fb-41c1-cffe-bf99e6f67d53"
      },
      "source": [
        "test_image = []\n",
        "for i in tqdm(range(test_df.shape[0])):\n",
        "    img = image.load_img('/content/drive/My Drive/question_1_dataset/test/test/'+ test_df['name'][i], target_size=(200,200,3))\n",
        "    img = image.img_to_array(img)\n",
        "    img = img/255\n",
        "    test_image.append(img)\n",
        "test = np.array(test_image)"
      ],
      "execution_count": 115,
      "outputs": [
        {
          "output_type": "stream",
          "text": [
            "100%|██████████| 1914/1914 [11:08<00:00,  3.76it/s]\n"
          ],
          "name": "stderr"
        }
      ]
    },
    {
      "cell_type": "code",
      "metadata": {
        "id": "zInWiHdUUMcf",
        "colab_type": "code",
        "colab": {}
      },
      "source": [
        "prediction = model.predict_classes(test)"
      ],
      "execution_count": 0,
      "outputs": []
    },
    {
      "cell_type": "code",
      "metadata": {
        "id": "UkjDjDdQUUm8",
        "colab_type": "code",
        "colab": {
          "base_uri": "https://localhost:8080/",
          "height": 34
        },
        "outputId": "d4462039-c0a5-4655-96f6-ec268bd02647"
      },
      "source": [
        "print(len(prediction))"
      ],
      "execution_count": 122,
      "outputs": [
        {
          "output_type": "stream",
          "text": [
            "1914\n"
          ],
          "name": "stdout"
        }
      ]
    },
    {
      "cell_type": "code",
      "metadata": {
        "id": "ZoDGjy_RvuoK",
        "colab_type": "code",
        "colab": {}
      },
      "source": [
        "test_df['category'] = test_df['category']+1\n",
        "test_df.to_csv('Task1_Predicted_Result.csv')"
      ],
      "execution_count": 0,
      "outputs": []
    }
  ]
}